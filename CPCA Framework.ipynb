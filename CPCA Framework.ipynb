{
 "cells": [
  {
   "cell_type": "code",
   "execution_count": null,
   "id": "175942e1",
   "metadata": {},
   "outputs": [],
   "source": [
    "import numpy as np\n",
    "import pandas as pd\n",
    "import nmrglue as ng\n",
    "import nibabel as nib\n",
    "\n",
    "import matplotlib.pyplot as plt\n",
    "\n",
    "from scipy.io import loadmat\n",
    "from sklearn.decomposition import PCA\n",
    "from sklearn.decomposition import FastICA\n",
    "from sklearn.cluster import KMeans\n",
    "\n",
    "from sklearn.metrics import adjusted_mutual_info_score as AMI\n",
    "\n",
    "from nmrglue.process.proc_base import fft\n",
    "from contrastive import CPCA\n",
    "import imageio\n",
    "import ants\n",
    "import pickle"
   ]
  },
  {
   "cell_type": "code",
   "execution_count": null,
   "id": "8c3790f3",
   "metadata": {},
   "outputs": [],
   "source": [
    "ms1 = nib.load(\"/data/bioprotean/Naren2/MRSI/Control04/Control04_REF_complex_FFT_redone.nii\")"
   ]
  },
  {
   "cell_type": "code",
   "execution_count": null,
   "id": "5a5a9f05",
   "metadata": {},
   "outputs": [],
   "source": [
    "ms1_arr = np.array(ms1.dataobj)"
   ]
  },
  {
   "cell_type": "code",
   "execution_count": null,
   "id": "7f23862e",
   "metadata": {},
   "outputs": [],
   "source": [
    "ms1_arr.shape"
   ]
  },
  {
   "cell_type": "code",
   "execution_count": null,
   "id": "d8e932bc",
   "metadata": {},
   "outputs": [],
   "source": [
    "RMS01_arr = ms1_arr.reshape(32,64,64,2048,2)"
   ]
  },
  {
   "cell_type": "code",
   "execution_count": null,
   "id": "e9b161b3",
   "metadata": {},
   "outputs": [],
   "source": [
    "RMS01_complex_sum = (RMS01_arr[:,:,:,:,0]**2 + RMS01_arr[:,:,:,:,1]**2)**(1/2)"
   ]
  },
  {
   "cell_type": "code",
   "execution_count": null,
   "id": "1ffbedc1",
   "metadata": {},
   "outputs": [],
   "source": [
    "RMS01_complex_sum.shape"
   ]
  },
  {
   "cell_type": "code",
   "execution_count": null,
   "id": "a68c8b61",
   "metadata": {},
   "outputs": [],
   "source": [
    "#saving (samples, features for CPCA)\n",
    "import nibabel as nib\n",
    "ni_img = nib.Nifti1Image(RMS01_complex_sum, affine=np.eye(4))\n",
    "nib.save(ni_img, \"/data/bioprotean/Naren2/FURI2/mayomrs_aligned/Control/Control04/Control04_complex_sum_redone.nii\")"
   ]
  },
  {
   "cell_type": "code",
   "execution_count": null,
   "id": "243efccf",
   "metadata": {},
   "outputs": [],
   "source": [
    "postwarp = nib.load('/data/MRSI/Naren2/FURI2/mayomrs_aligned/ms/RMS02/RMS02_flair_overlay_norm_Warped.nii.gz').dataobj"
   ]
  },
  {
   "cell_type": "code",
   "execution_count": null,
   "id": "6b6f6e94",
   "metadata": {},
   "outputs": [],
   "source": [
    "#saving (samples, features for CPCA)\n",
    "import nibabel as nib\n",
    "ni_img = nib.Nifti1Image(postwarp_tp, affine=np.eye(4))\n",
    "nib.save(ni_img, \"/data/MRSI/Naren2/FURI2/mayomrs_aligned/ms/RMS02/RMS02_flair_warped.nii\")"
   ]
  },
  {
   "cell_type": "code",
   "execution_count": null,
   "id": "57b815c4",
   "metadata": {},
   "outputs": [],
   "source": [
    "RMS01_complex_sum = nib.load(\"/data/bioprotean/Naren2/FURI2/mayomrs_aligned/ms/RMS01/RMS01_complex_sum.nii\").dataobj\n",
    "RMS02_complex_sum = nib.load(\"/data/bioprotean/Naren2/FURI2/mayomrs_aligned/ms/RMS02/RMS02_complex_sum.nii\").dataobj\n",
    "RMS03_complex_sum = nib.load(\"/data/bioprotean/Naren2/FURI2/mayomrs_aligned/ms/RMS03/RMS03_complex_sum.nii\").dataobj\n",
    "RMS05_complex_sum = nib.load(\"/data/bioprotean/Naren2/FURI2/mayomrs_aligned/ms/RMS05/RMS05_complex_sum.nii\").dataobj\n",
    "Control01_complex_sum = nib.load(\"/data/bioprotean/Naren2/FURI2/mayomrs_aligned/Control/Control01/Control01_complex_sum.nii\").dataobj\n",
    "Control02_complex_sum = nib.load(\"/data/bioprotean/Naren2/FURI2/mayomrs_aligned/Control/Control02/Control02_complex_sum.nii\").dataobj\n",
    "Control03_complex_sum = nib.load(\"/data/bioprotean/Naren2/FURI2/mayomrs_aligned/Control/Control03/Control03_complex_sum.nii\").dataobj\n",
    "Control04_complex_sum = nib.load(\"/data/bioprotean/Naren2/FURI2/mayomrs_aligned/Control/Control04/Control04_complex_sum.nii\").dataobj"
   ]
  },
  {
   "cell_type": "code",
   "execution_count": null,
   "id": "9cbcd850",
   "metadata": {},
   "outputs": [],
   "source": [
    "msl1_arr = np.array(nib.load(\"/data/bioprotean/Naren2/MRSI/RMS01_V3/RMS01_labels2spectra.nii\").dataobj)\n",
    "msl2_arr = np.array(nib.load(\"/data/bioprotean/Naren2/MRSI/RMS02_V3/RMS02_labels2spectra.nii\").dataobj)\n",
    "msl3_arr = np.array(nib.load(\"/data/bioprotean/Naren2/MRSI/RMS03_V3/RMS03_labels2spectra.nii\").dataobj)\n",
    "msl5_arr = np.array(nib.load(\"/data/bioprotean/Naren2/MRSI/RMS05_V3/RMS05_labels2spectra.nii\").dataobj)"
   ]
  },
  {
   "cell_type": "code",
   "execution_count": null,
   "id": "854a3c20",
   "metadata": {},
   "outputs": [],
   "source": [
    "postwarp_tp = np.transpose(postwarp)"
   ]
  },
  {
   "cell_type": "code",
   "execution_count": null,
   "id": "0861223e",
   "metadata": {},
   "outputs": [],
   "source": [
    "plt.imshow(postwarp_tp[16,:,:], cmap='turbo')\n",
    "plt.imshow(msl1_arr[16,:,:], alpha=0.5,cmap='Greens')"
   ]
  },
  {
   "cell_type": "code",
   "execution_count": null,
   "id": "8d07f6aa",
   "metadata": {},
   "outputs": [],
   "source": [
    "#unwarped vs spectral sum\n",
    "plt.imshow(RMS01_complex_sum[20,:,:,750],cmap='inferno')\n",
    "plt.imshow(postwarp_tp[20,:,:], alpha=0.7,cmap='Greens')\n",
    "#plt.imshow(msl1_arr[:,30,:], alpha=0.3,cmap='Greens')"
   ]
  },
  {
   "cell_type": "code",
   "execution_count": null,
   "id": "13dc7b6f",
   "metadata": {},
   "outputs": [],
   "source": [
    "#making empty lists\n",
    "ms1_hy_arrays = []\n",
    "ms1_bgd_arrays = []\n",
    "ms2_hy_arrays = []\n",
    "ms2_bgd_arrays = []\n",
    "ms3_hy_arrays = []\n",
    "ms3_bgd_arrays = []\n",
    "ms5_hy_arrays = []\n",
    "ms5_bgd_arrays = []"
   ]
  },
  {
   "cell_type": "code",
   "execution_count": null,
   "id": "d13e8770",
   "metadata": {},
   "outputs": [],
   "source": [
    "for n in range(0,2048):\n",
    "    ms1_arr_masked_temp_hy = np.ma.masked_where(msl1_arr<1, RMS01_complex_sum[:,:,:,n]) #mask values that are less than 1 in spectral data (gives hyperintensities)\n",
    "    hy1_mask = np.ma.getmask(ms1_arr_masked_temp_hy) #get only mask (True False) values\n",
    "    hy1_mask_applied = np.where(hy1_mask, 0, ms1_arr_masked_temp_hy) #where mask is True (and value is 'masked'), make it 0 and keep everything else\n",
    "    ms1_hy_arrays.append(hy1_mask_applied)\n",
    "    ms1_arr_masked_temp_bgd = np.ma.masked_where(msl1_arr>0, RMS01_complex_sum[:,:,:,n]) #mask values that are greater than 0 in spectral data (gives background)\n",
    "    bgd1_mask = np.ma.getmask(ms1_arr_masked_temp_bgd)\n",
    "    bg1_mask_applied = np.where(bgd1_mask, 0, ms1_arr_masked_temp_bgd)\n",
    "    ms1_bgd_arrays.append(bg1_mask_applied)"
   ]
  },
  {
   "cell_type": "code",
   "execution_count": null,
   "id": "ce0a35ab",
   "metadata": {},
   "outputs": [],
   "source": [
    "#unwarped vs spectral sum\n",
    "plt.imshow(ms1_bgd_arrays[750][:,30,:],cmap='inferno')\n",
    "plt.imshow(msl1_arr[:,30,:], alpha=0,cmap='Greens')"
   ]
  },
  {
   "cell_type": "code",
   "execution_count": null,
   "id": "2beefa85",
   "metadata": {},
   "outputs": [],
   "source": [
    "plt.imshow(ms1_hy_arrays[750][:,30,:],cmap='inferno')"
   ]
  },
  {
   "cell_type": "code",
   "execution_count": null,
   "id": "cfba32c8",
   "metadata": {},
   "outputs": [],
   "source": [
    "#making mask for different voxel spectra's into one array\n",
    "ms1_arr_masked_hy = np.stack(ms1_hy_arrays, axis=3)\n",
    "ms1_arr_masked_bgd = np.stack(ms1_bgd_arrays, axis=3)"
   ]
  },
  {
   "cell_type": "code",
   "execution_count": null,
   "id": "f5d0e60c",
   "metadata": {},
   "outputs": [],
   "source": [
    "#saving RMS01 files\n",
    "np.save('/data/bioprotean/Naren2/FURI2/mayomrs_aligned/ms/RMS01/redo/ms1_arr_masked_hy_new.npy',ms1_arr_masked_hy)\n",
    "np.save('/data/bioprotean/Naren2/FURI2/mayomrs_aligned/ms/RMS01/redo/ms1_arr_masked_bgd_new.npy',ms1_arr_masked_bgd)"
   ]
  },
  {
   "cell_type": "code",
   "execution_count": null,
   "id": "d8d8d613",
   "metadata": {},
   "outputs": [],
   "source": [
    "#unwarped vs spectral sum\n",
    "plt.imshow(ms1_arr_masked_bgd[:,30,:,750],cmap='inferno')\n",
    "plt.imshow(msl1_arr[:,30,:], alpha=0.5,cmap='Greens')"
   ]
  },
  {
   "cell_type": "code",
   "execution_count": null,
   "id": "7e1535e1",
   "metadata": {},
   "outputs": [],
   "source": [
    "np.array_equal(ms1_arr_masked_hy,ms1_arr_masked_bgd)"
   ]
  },
  {
   "cell_type": "code",
   "execution_count": null,
   "id": "6de91b2c",
   "metadata": {},
   "outputs": [],
   "source": [
    "for n in range(0,2048):\n",
    "    ms2_arr_masked_temp_hy = np.ma.masked_where(msl2_arr<1, RMS02_complex_sum[:,:,:,n]) #mask values that are less than 1 in spectral data (gives hyperintensities)\n",
    "    hy2_mask = np.ma.getmask(ms2_arr_masked_temp_hy) #get only mask (True False) values\n",
    "    hy2_mask_applied = np.where(hy2_mask, 0, ms2_arr_masked_temp_hy) #where mask is True (and value is 'masked'), make it 0 and keep everything else\n",
    "    ms2_hy_arrays.append(hy2_mask_applied)\n",
    "    ms2_arr_masked_temp_bgd = np.ma.masked_where(msl2_arr>0, RMS02_complex_sum[:,:,:,n]) #mask values that are greater than 0 in spectral data (gives background)\n",
    "    bgd2_mask = np.ma.getmask(ms2_arr_masked_temp_bgd)\n",
    "    bg2_mask_applied = np.where(bgd2_mask, 0, ms2_arr_masked_temp_bgd)\n",
    "    ms2_bgd_arrays.append(bg2_mask_applied)"
   ]
  },
  {
   "cell_type": "code",
   "execution_count": null,
   "id": "0fc7a84c",
   "metadata": {},
   "outputs": [],
   "source": [
    "ms2_arr_masked_hy = np.stack(ms2_hy_arrays, axis=3)\n",
    "ms2_arr_masked_bgd = np.stack(ms2_bgd_arrays, axis=3)"
   ]
  },
  {
   "cell_type": "code",
   "execution_count": null,
   "id": "dd2aa0f0",
   "metadata": {},
   "outputs": [],
   "source": [
    "#saving RMS02 files\n",
    "np.save('/data/bioprotean/Naren2/FURI2/mayomrs_aligned/ms/RMS02/redo/ms2_arr_masked_hy_new.npy',ms2_arr_masked_hy)\n",
    "np.save('/data/bioprotean/Naren2/FURI2/mayomrs_aligned/ms/RMS02/redo/ms2_arr_masked_bgd_new.npy',ms2_arr_masked_bgd)"
   ]
  },
  {
   "cell_type": "code",
   "execution_count": null,
   "id": "4a36828a",
   "metadata": {},
   "outputs": [],
   "source": [
    "for n in range(0,2048):\n",
    "    ms3_arr_masked_temp_hy = np.ma.masked_where(msl3_arr<1, RMS03_complex_sum[:,:,:,n]) #mask values that are less than 1 in spectral data (gives hyperintensities)\n",
    "    hy3_mask = np.ma.getmask(ms3_arr_masked_temp_hy) #get only mask (True False) values\n",
    "    hy3_mask_applied = np.where(hy3_mask, 0, ms3_arr_masked_temp_hy) #where mask is True (and value is 'masked'), make it 0 and keep everything else\n",
    "    ms3_hy_arrays.append(hy3_mask_applied)\n",
    "    ms3_arr_masked_temp_bgd = np.ma.masked_where(msl3_arr>0, RMS03_complex_sum[:,:,:,n]) #mask values that are greater than 0 in spectral data (gives background)\n",
    "    bgd3_mask = np.ma.getmask(ms3_arr_masked_temp_bgd)\n",
    "    bg3_mask_applied = np.where(bgd3_mask, 0, ms3_arr_masked_temp_bgd)\n",
    "    ms3_bgd_arrays.append(bg3_mask_applied)"
   ]
  },
  {
   "cell_type": "code",
   "execution_count": null,
   "id": "ef02dd21",
   "metadata": {},
   "outputs": [],
   "source": [
    "ms3_arr_masked_hy = np.stack(ms3_hy_arrays, axis=3)\n",
    "ms3_arr_masked_bgd = np.stack(ms3_bgd_arrays, axis=3)"
   ]
  },
  {
   "cell_type": "code",
   "execution_count": null,
   "id": "4c77dcec",
   "metadata": {},
   "outputs": [],
   "source": [
    "#saving RMS03 files\n",
    "np.save('/data/bioprotean/Naren2/FURI2/mayomrs_aligned/ms/RMS03/redo/ms3_arr_masked_hy_new.npy',ms3_arr_masked_hy)\n",
    "np.save('/data/bioprotean/Naren2/FURI2/mayomrs_aligned/ms/RMS03/redo/ms3_arr_masked_bgd_new.npy',ms3_arr_masked_bgd)"
   ]
  },
  {
   "cell_type": "code",
   "execution_count": null,
   "id": "d2ddfd0f",
   "metadata": {},
   "outputs": [],
   "source": [
    "for n in range(0,2048):\n",
    "    ms5_arr_masked_temp_hy = np.ma.masked_where(msl5_arr<1, RMS05_complex_sum[:,:,:,n]) #mask values that are less than 1 in spectral data (gives hyperintensities)\n",
    "    hy5_mask = np.ma.getmask(ms5_arr_masked_temp_hy) #get only mask (True False) values\n",
    "    hy5_mask_applied = np.where(hy5_mask, 0, ms5_arr_masked_temp_hy) #where mask is True (and value is 'masked'), make it 0 and keep everything else\n",
    "    ms5_hy_arrays.append(hy5_mask_applied)\n",
    "    ms5_arr_masked_temp_bgd = np.ma.masked_where(msl5_arr>0, RMS05_complex_sum[:,:,:,n]) #mask values that are greater than 0 in spectral data (gives background)\n",
    "    bgd5_mask = np.ma.getmask(ms5_arr_masked_temp_bgd)\n",
    "    bg5_mask_applied = np.where(bgd5_mask, 0, ms5_arr_masked_temp_bgd)\n",
    "    ms5_bgd_arrays.append(bg5_mask_applied)"
   ]
  },
  {
   "cell_type": "code",
   "execution_count": null,
   "id": "20b8ae10",
   "metadata": {},
   "outputs": [],
   "source": [
    "ms5_arr_masked_hy = np.stack(ms5_hy_arrays, axis=3)\n",
    "ms5_arr_masked_bgd = np.stack(ms5_bgd_arrays, axis=3)"
   ]
  },
  {
   "cell_type": "code",
   "execution_count": null,
   "id": "b1d9e53d",
   "metadata": {},
   "outputs": [],
   "source": [
    "#saving RMS05 files\n",
    "np.save('/data/bioprotean/Naren2/FURI2/mayomrs_aligned/ms/RMS05/redo/ms5_arr_masked_hy_new.npy',ms5_arr_masked_hy)\n",
    "np.save('/data/bioprotean/Naren2/FURI2/mayomrs_aligned/ms/RMS05/redo/ms5_arr_masked_bgd_new.npy',ms5_arr_masked_bgd)"
   ]
  },
  {
   "cell_type": "code",
   "execution_count": null,
   "id": "bdde0bf6",
   "metadata": {},
   "outputs": [],
   "source": [
    "#loading control .nii files\n",
    "Control01_complex_sum = nib.load(\"/data/MRSI/Naren2/FURI2/mayomrs_aligned/Control/Control01/Control01_complex_sum.nii\")\n",
    "Control02_complex_sum = nib.load(\"/data/MRSI/Naren2/FURI2/mayomrs_aligned/Control/Control02/Control02_complex_sum.nii\")\n",
    "Control03_complex_sum = nib.load(\"/data/MRSI/Naren2/FURI2/mayomrs_aligned/Control/Control03/Control03_complex_sum.nii\")\n",
    "Control04_complex_sum = nib.load(\"/data/MRSI/Naren2/FURI2/mayomrs_aligned/Control/Control04/Control04_complex_sum.nii\")"
   ]
  },
  {
   "cell_type": "code",
   "execution_count": null,
   "id": "3b6319f9",
   "metadata": {},
   "outputs": [],
   "source": [
    "#converting to array\n",
    "Control01_complex_sum_arr = np.array(Control01_complex_sum.dataobj)\n",
    "Control02_complex_sum_arr = np.array(Control02_complex_sum.dataobj)\n",
    "Control03_complex_sum_arr = np.array(Control03_complex_sum.dataobj)\n",
    "Control04_complex_sum_arr = np.array(Control04_complex_sum.dataobj)"
   ]
  },
  {
   "cell_type": "code",
   "execution_count": null,
   "id": "8907bae0",
   "metadata": {},
   "outputs": [],
   "source": [
    "#saving control sums as .npy so it's easier to load in\n",
    "np.save('/data/bioprotean/Naren2/FURI2/mayomrs_aligned/Control/Control01/Control01_complex_sum.npy',Control01_complex_sum_arr)\n",
    "np.save('/data/bioprotean/Naren2/FURI2/mayomrs_aligned/Control/Control02/Control02_complex_sum.npy',Control02_complex_sum_arr)\n",
    "np.save('/data/bioprotean/Naren2/FURI2/mayomrs_aligned/Control/Control03/Control03_complex_sum.npy',Control03_complex_sum_arr)\n",
    "np.save('/data/bioprotean/Naren2/FURI2/mayomrs_aligned/Control/Control04/Control04_complex_sum.npy',Control04_complex_sum_arr)"
   ]
  },
  {
   "cell_type": "code",
   "execution_count": null,
   "id": "93aa98bd",
   "metadata": {},
   "outputs": [],
   "source": [
    "#loading all necessary files in one cell                                                                                                                    ###############\n",
    "ms1_arr_masked_hy = np.load('/data/bioprotean/Naren2/FURI2/mayomrs_aligned/ms/RMS01/redo/ms1_arr_masked_hy_new.npy')\n",
    "ms2_arr_masked_hy = np.load('/data/bioprotean/Naren2/FURI2/mayomrs_aligned/ms/RMS02/redo/ms2_arr_masked_hy_new.npy')\n",
    "ms3_arr_masked_hy = np.load('/data/bioprotean/Naren2/FURI2/mayomrs_aligned/ms/RMS03/redo/ms3_arr_masked_hy_new.npy')\n",
    "ms5_arr_masked_hy = np.load('/data/bioprotean/Naren2/FURI2/mayomrs_aligned/ms/RMS05/redo/ms5_arr_masked_hy_new.npy')\n",
    "ms1_arr_masked_bgd = np.load('/data/bioprotean/Naren2/FURI2/mayomrs_aligned/ms/RMS01/redo/ms1_arr_masked_bgd_new.npy')\n",
    "ms2_arr_masked_bgd = np.load('/data/bioprotean/Naren2/FURI2/mayomrs_aligned/ms/RMS02/redo/ms2_arr_masked_bgd_new.npy')\n",
    "ms3_arr_masked_bgd = np.load('/data/bioprotean/Naren2/FURI2/mayomrs_aligned/ms/RMS03/redo/ms3_arr_masked_bgd_new.npy')\n",
    "ms5_arr_masked_bgd = np.load('/data/bioprotean/Naren2/FURI2/mayomrs_aligned/ms/RMS05/redo/ms5_arr_masked_bgd_new.npy')"
   ]
  },
  {
   "cell_type": "code",
   "execution_count": null,
   "id": "d1c9a5c3",
   "metadata": {},
   "outputs": [],
   "source": [
    "#loading in saved files\n",
    "Control01_complex_sum = np.load('/data/MRSI/Naren2/FURI2/mayomrs_aligned/Control/Control01/Control01_complex_sum.npy')\n",
    "Control02_complex_sum = np.load('/data/MRSI/Naren2/FURI2/mayomrs_aligned/Control/Control02/Control02_complex_sum.npy')\n",
    "Control03_complex_sum = np.load('/data/MRSI/Naren2/FURI2/mayomrs_aligned/Control/Control03/Control03_complex_sum.npy')\n",
    "Control04_complex_sum = np.load('/data/MRSI/Naren2/FURI2/mayomrs_aligned/Control/Control04/Control04_complex_sum.npy')"
   ]
  },
  {
   "cell_type": "code",
   "execution_count": null,
   "id": "133bfd22",
   "metadata": {},
   "outputs": [],
   "source": [
    "#reshaping before concatenating\n",
    "ms1_arr_masked_hy_re = ms1_arr_masked_hy.reshape(32*64*64,2048)\n",
    "ms2_arr_masked_hy_re = ms2_arr_masked_hy.reshape(32*64*64,2048)\n",
    "ms3_arr_masked_hy_re = ms3_arr_masked_hy.reshape(32*64*64,2048)\n",
    "ms5_arr_masked_hy_re = ms5_arr_masked_hy.reshape(32*64*64,2048)\n",
    "ms1_arr_masked_bgd_re = ms1_arr_masked_bgd.reshape(32*64*64,2048)\n",
    "ms2_arr_masked_bgd_re = ms2_arr_masked_bgd.reshape(32*64*64,2048)\n",
    "ms3_arr_masked_bgd_re = ms3_arr_masked_bgd.reshape(32*64*64,2048)\n",
    "ms5_arr_masked_bgd_re = ms5_arr_masked_bgd.reshape(32*64*64,2048)"
   ]
  },
  {
   "cell_type": "code",
   "execution_count": null,
   "id": "ff3df3e6",
   "metadata": {},
   "outputs": [],
   "source": [
    "#saving masked arrays which are reshaped as .npy so it's easier to load in\n",
    "np.save('/data/bioprotean/Naren2/FURI2/mayomrs_aligned/ms/RMS01/redo/ms1_arr_masked_hy_re.npy',ms1_arr_masked_hy_re)\n",
    "np.save('/data/bioprotean/Naren2/FURI2/mayomrs_aligned/ms/RMS02/redo/ms2_arr_masked_hy_re.npy',ms2_arr_masked_hy_re)\n",
    "np.save('/data/bioprotean/Naren2/FURI2/mayomrs_aligned/ms/RMS03/redo/ms3_arr_masked_hy_re.npy',ms3_arr_masked_hy_re)\n",
    "np.save('/data/bioprotean/Naren2/FURI2/mayomrs_aligned/ms/RMS05/redo/ms5_arr_masked_hy_re.npy',ms5_arr_masked_hy_re)\n",
    "np.save('/data/bioprotean/Naren2/FURI2/mayomrs_aligned/ms/RMS01/redo/ms1_arr_masked_bgd_re.npy',ms1_arr_masked_bgd_re)\n",
    "np.save('/data/bioprotean/Naren2/FURI2/mayomrs_aligned/ms/RMS02/redo/ms2_arr_masked_bgd_re.npy',ms2_arr_masked_bgd_re)\n",
    "np.save('/data/bioprotean/Naren2/FURI2/mayomrs_aligned/ms/RMS03/redo/ms3_arr_masked_bgd_re.npy',ms3_arr_masked_bgd_re)\n",
    "np.save('/data/bioprotean/Naren2/FURI2/mayomrs_aligned/ms/RMS05/redo/ms5_arr_masked_bgd_re.npy',ms5_arr_masked_bgd_re)"
   ]
  },
  {
   "cell_type": "code",
   "execution_count": null,
   "id": "f446ac47",
   "metadata": {},
   "outputs": [],
   "source": [
    "Control01_complex_sum_re = Control01_complex_sum.reshape(32*64*64,2048)\n",
    "Control02_complex_sum_re = Control02_complex_sum.reshape(32*64*64,2048)\n",
    "Control03_complex_sum_re = Control03_complex_sum.reshape(32*64*64,2048)\n",
    "Control04_complex_sum_re = Control04_complex_sum.reshape(32*64*64,2048)"
   ]
  },
  {
   "cell_type": "code",
   "execution_count": null,
   "id": "33a0cab1",
   "metadata": {},
   "outputs": [],
   "source": [
    "#saving control sums reshaped as .npy so it's easier to load in\n",
    "np.save('/data/bioprotean/Naren2/FURI2/mayomrs_aligned/Control/Control01/Control01_complex_sum_re.npy',Control01_complex_sum_re)\n",
    "np.save('/data/bioprotean/Naren2/FURI2/mayomrs_aligned/Control/Control02/Control02_complex_sum_re.npy',Control02_complex_sum_re)\n",
    "np.save('/data/bioprotean/Naren2/FURI2/mayomrs_aligned/Control/Control03/Control03_complex_sum_re.npy',Control03_complex_sum_re)\n",
    "np.save('/data/bioprotean/Naren2/FURI2/mayomrs_aligned/Control/Control04/Control04_complex_sum_re.npy',Control04_complex_sum_re)"
   ]
  },
  {
   "cell_type": "code",
   "execution_count": null,
   "id": "dfbfa593",
   "metadata": {},
   "outputs": [],
   "source": [
    "#loading all reshaped files in one cell\n",
    "ms1_arr_masked_hy_re = np.load('/data/MRSI/Naren2/FURI2/mayomrs_aligned/ms/RMS01/redo/ms1_arr_masked_hy_re.npy')\n",
    "ms2_arr_masked_hy_re = np.load('/data/MRSI/Naren2/FURI2/mayomrs_aligned/ms/RMS02/redo/ms2_arr_masked_hy_re.npy')\n",
    "ms3_arr_masked_hy_re = np.load('/data/MRSI/Naren2/FURI2/mayomrs_aligned/ms/RMS03/redo/ms3_arr_masked_hy_re.npy')\n",
    "ms5_arr_masked_hy_re = np.load('/data/MRSI/Naren2/FURI2/mayomrs_aligned/ms/RMS05/redo/ms5_arr_masked_hy_re.npy')\n",
    "ms1_arr_masked_bgd_re = np.load('/data/MRSI/Naren2/FURI2/mayomrs_aligned/ms/RMS01/redo/ms1_arr_masked_bgd_re.npy')\n",
    "ms2_arr_masked_bgd_re = np.load('/data/MRSI/Naren2/FURI2/mayomrs_aligned/ms/RMS02/redo/ms2_arr_masked_bgd_re.npy')\n",
    "ms3_arr_masked_bgd_re = np.load('/data/MRSI/Naren2/FURI2/mayomrs_aligned/ms/RMS03/redo/ms3_arr_masked_bgd_re.npy')\n",
    "ms5_arr_masked_bgd_re = np.load('/data/MRSI/Naren2/FURI2/mayomrs_aligned/ms/RMS05/redo/ms5_arr_masked_bgd_re.npy')\n",
    "Control01_complex_sum_re = np.load('/data/MRSI/Naren2/FURI2/mayomrs_aligned/Control/Control01/Control01_complex_sum_re.npy')\n",
    "Control02_complex_sum_re = np.load('/data/MRSI/Naren2/FURI2/mayomrs_aligned/Control/Control02/Control02_complex_sum_re.npy')\n",
    "Control03_complex_sum_re = np.load('/data/MRSI/Naren2/FURI2/mayomrs_aligned/Control/Control03/Control03_complex_sum_re.npy')\n",
    "Control04_complex_sum_re = np.load('/data/MRSI/Naren2/FURI2/mayomrs_aligned/Control/Control04/Control04_complex_sum_re.npy')"
   ]
  },
  {
   "cell_type": "code",
   "execution_count": null,
   "id": "da737233",
   "metadata": {},
   "outputs": [],
   "source": [
    "np.count_nonzero(ms1_arr_masked_hy_re==0)"
   ]
  },
  {
   "cell_type": "code",
   "execution_count": null,
   "id": "bb1037de",
   "metadata": {},
   "outputs": [],
   "source": [
    "np.count_nonzero(ms1_arr_masked_hy_re)/2048"
   ]
  },
  {
   "cell_type": "code",
   "execution_count": null,
   "id": "a302cfee",
   "metadata": {},
   "outputs": [],
   "source": [
    "np.count_nonzero(ms5_arr_masked_hy_re)/2048"
   ]
  },
  {
   "cell_type": "code",
   "execution_count": null,
   "id": "466e9873",
   "metadata": {},
   "outputs": [],
   "source": [
    "#bgd_frame = np.concatenate((Control01_complex_sum_re,Control02_complex_sum_re,Control03_complex_sum_re,Control04_complex_sum_re, ms1_arr_masked_bgd_re, ms2_arr_masked_bgd_re, ms3_arr_masked_bgd_re, ms5_arr_masked_bgd_re), axis=0)\n",
    "hy_frame = np.concatenate((ms1_arr_masked_hy_re, ms2_arr_masked_hy_re, ms3_arr_masked_hy_re, ms5_arr_masked_hy_re), axis=0)\n",
    "#, ms3_arr_masked_hy_re, ms5_arr_masked_hy_re"
   ]
  },
  {
   "cell_type": "code",
   "execution_count": null,
   "id": "410ad2fa",
   "metadata": {},
   "outputs": [],
   "source": [
    "hy_test = np.concatenate((ms1_arr_masked_hy_re, ms2_arr_masked_hy_re, ms3_arr_masked_hy_re, ms5_arr_masked_hy_re), axis=0)"
   ]
  },
  {
   "cell_type": "code",
   "execution_count": null,
   "id": "da85957e",
   "metadata": {},
   "outputs": [],
   "source": [
    "bgd_frame_onlyc = np.concatenate((Control01_complex_sum_re,Control02_complex_sum_re,Control03_complex_sum_re,Control04_complex_sum_re), axis=0)\n",
    "#hy_frame_allms = np.concatenate((ms1_arr_masked_hy_re, ms2_arr_masked_hy_re, ms3_arr_masked_hy_re, ms5_arr_masked_hy_re, ms1_arr_masked_bgd_re, ms2_arr_masked_bgd_re, ms3_arr_masked_bgd_re, ms5_arr_masked_bgd_re), axis=0)\n",
    "#, ms3_arr_masked_hy_re, ms5_arr_masked_hy_re\n",
    "#, ms3_arr_masked_bgd_re, ms5_arr_masked_bgd_re"
   ]
  },
  {
   "cell_type": "code",
   "execution_count": null,
   "id": "e4571648",
   "metadata": {},
   "outputs": [],
   "source": [
    "#ms everything outside hy\n",
    "bgd_onlyms = np.concatenate((ms1_arr_masked_bgd_re, ms2_arr_masked_bgd_re, ms3_arr_masked_bgd_re, ms5_arr_masked_bgd_re), axis=0)"
   ]
  },
  {
   "cell_type": "code",
   "execution_count": null,
   "id": "e438b8a4",
   "metadata": {},
   "outputs": [],
   "source": [
    "#print(bgd_frame.shape)\n",
    "print(bgd_frame_onlyc.shape)\n",
    "print(hy_frame.shape)\n",
    "#print(hy_frame_allms.shape)"
   ]
  },
  {
   "cell_type": "code",
   "execution_count": null,
   "id": "e29f988f",
   "metadata": {},
   "outputs": [],
   "source": [
    "#print(bgd_frame.real.shape[1]==hy_frame.real.shape[1])\n",
    "#print(bgd_frame_onlyc.real.shape[1]==hy_frame.real.shape[1])\n",
    "print(bgd_frame_onlyc.real.shape[1]==hy_frame_allms.real.shape[1])"
   ]
  },
  {
   "cell_type": "code",
   "execution_count": null,
   "id": "9de71cbd",
   "metadata": {},
   "outputs": [],
   "source": [
    "print(bgd_frame_onlyc.real.shape[1]==hy_frame.real.shape[1])"
   ]
  },
  {
   "cell_type": "code",
   "execution_count": null,
   "id": "602449b5",
   "metadata": {},
   "outputs": [],
   "source": [
    "#making memory for CPCA\n",
    "del ms1_arr_masked_hy_re\n",
    "del ms2_arr_masked_hy_re\n",
    "#del ms3_arr_masked_hy_re\n",
    "#del ms5_arr_masked_hy_re\n",
    "del ms1_arr_masked_bgd_re\n",
    "del ms2_arr_masked_bgd_re\n",
    "#del ms3_arr_masked_bgd_re\n",
    "#del ms5_arr_masked_bgd_re\n",
    "del Control01_complex_sum_re\n",
    "del Control02_complex_sum_re\n",
    "del Control03_complex_sum_re\n",
    "del Control04_complex_sum_re\n",
    "#del bgd_frame_onlyc\n",
    "#del hy_frame_allms"
   ]
  },
  {
   "cell_type": "code",
   "execution_count": null,
   "id": "5337393f",
   "metadata": {},
   "outputs": [],
   "source": [
    "#cpca = CPCA()\n",
    "#labels = [0]*131072+[1]*131072+[2]*131072+[3]*131072\n",
    "#cpca_transformed = cpca.fit_transform(hy_frame.real, bgd_frame.real, preprocess_with_pca_dim=500, plot=True, active_labels=labels, n_alphas=10)"
   ]
  },
  {
   "cell_type": "code",
   "execution_count": null,
   "id": "a2a35df9",
   "metadata": {},
   "outputs": [],
   "source": [
    "hy_frame_allms.shape"
   ]
  },
  {
   "cell_type": "code",
   "execution_count": null,
   "id": "d5f8fb47",
   "metadata": {},
   "outputs": [],
   "source": [
    "cpca = CPCA()\n",
    "labels = [0]*131072+[1]*131072+[2]*131072+[3]*131072+[4]*131072+[5]*131072+[6]*131072+[7]*131072\n",
    "cpca_transformed = cpca.fit_transform(hy_frame_allms.real, bgd_frame_onlyc.real, plot=True, active_labels=labels, n_alphas=10)\n",
    "#preprocess_with_pca_dim=500"
   ]
  },
  {
   "cell_type": "code",
   "execution_count": null,
   "id": "681410d7",
   "metadata": {},
   "outputs": [],
   "source": [
    "hy_frame.shape"
   ]
  },
  {
   "cell_type": "code",
   "execution_count": null,
   "id": "6e3a3079",
   "metadata": {},
   "outputs": [],
   "source": [
    "cpca = CPCA()\n",
    "labels = [0]*131072+[1]*131072+[2]*131072+[3]*131072\n",
    "cpca_transformed = cpca.fit_transform(hy_frame.real, bgd_frame_onlyc.real, plot=True, active_labels=labels, n_alphas=10)\n",
    "#preprocess_with_pca_dim=500"
   ]
  },
  {
   "cell_type": "code",
   "execution_count": null,
   "id": "42402600",
   "metadata": {},
   "outputs": [],
   "source": [
    "#updated cpca with new labels\n",
    "cpca = CPCA()\n",
    "labels = [0]*131072+[1]*131072+[2]*131072+[3]*131072\n",
    "cpca_transformed = cpca.fit_transform(hy_frame.real, bgd_frame_onlyc.real, plot=True, active_labels=labels, n_alphas=10,)\n",
    "#preprocess_with_pca_dim=500"
   ]
  },
  {
   "cell_type": "code",
   "execution_count": null,
   "id": "8aac959e",
   "metadata": {},
   "outputs": [],
   "source": [
    "#updated cpca with new labels\n",
    "cpca = CPCA(standardize=False)\n",
    "labels = [0]*131072+[1]*131072+[2]*131072+[3]*131072\n",
    "cpca_transformed = cpca.fit_transform(hy_frame.real, bgd_frame_onlyc.real, plot=True, active_labels=labels, n_alphas=10,)\n",
    "#preprocess_with_pca_dim=500"
   ]
  },
  {
   "cell_type": "code",
   "execution_count": null,
   "id": "8499bbde",
   "metadata": {},
   "outputs": [],
   "source": [
    "x = plt.scatter(principalComponents[:,1], principalComponents[:,0], c = colors)\n",
    "classes = (['RMS01', 'RMS02', 'RMS03', 'RMS05'])\n",
    "plt.legend(handles=x.legend_elements()[0], labels=classes)\n",
    "plt.xlabel('PC1')\n",
    "plt.ylabel('PC2')\n",
    "plt.show()"
   ]
  },
  {
   "cell_type": "code",
   "execution_count": null,
   "id": "bc088803",
   "metadata": {},
   "outputs": [],
   "source": [
    "from sklearn.decomposition import PCA\n",
    "\n",
    "pca = PCA(n_components=2)\n",
    "\n",
    "principalComponents = pca.fit_transform(hy_frame.real)"
   ]
  },
  {
   "cell_type": "code",
   "execution_count": null,
   "id": "8fac349b",
   "metadata": {},
   "outputs": [],
   "source": [
    "colors = [0]*131072+[1]*131072+[2]*131072+[3]*131072"
   ]
  },
  {
   "cell_type": "code",
   "execution_count": null,
   "id": "977d6637",
   "metadata": {},
   "outputs": [],
   "source": [
    "cpca = CPCA()\n",
    "labels = [0]*131072+[1]*131072\n",
    "cpca_transformed = cpca.fit_transform(hy_frame.real, bgd_frame_onlyc.real, active_labels=labels, alpha_selection='manual', alpha_value=3, n_alphas_to_return=1)\n",
    "#preprocess_with_pca_dim=500"
   ]
  },
  {
   "cell_type": "code",
   "execution_count": null,
   "id": "91ba5415",
   "metadata": {},
   "outputs": [],
   "source": [
    "cpca = CPCA()\n",
    "labels = [0]*131072+[1]*131072+[2]*131072+[3]*131072\n",
    "cpca_transformed2 = cpca.fit_transform(hy_frame.real, bgd_frame_onlyc.real, active_labels=labels, alpha_selection='manual', alpha_value=2, n_alphas_to_return=1)\n",
    "#preprocess_with_pca_dim=500"
   ]
  },
  {
   "cell_type": "code",
   "execution_count": null,
   "id": "3b63fd4d",
   "metadata": {},
   "outputs": [],
   "source": [
    "cpca = CPCA()\n",
    "labels = [0]*131072+[1]*131072+[2]*131072+[3]*131072\n",
    "cpca_transformed3 = cpca.fit_transform(hy_frame.real, bgd_frame_onlyc.real, active_labels=labels, alpha_selection='manual', alpha_value=3, n_alphas_to_return=1)\n",
    "#preprocess_with_pca_dim=500"
   ]
  },
  {
   "cell_type": "code",
   "execution_count": null,
   "id": "e87c103a",
   "metadata": {},
   "outputs": [],
   "source": [
    "cpca = CPCA()\n",
    "labels = [0]*131072+[1]*131072+[2]*131072+[3]*131072\n",
    "cpca_transformed4 = cpca.fit_transform(hy_frame.real, bgd_frame_onlyc.real, active_labels=labels, alpha_selection='manual', alpha_value=1)\n",
    "#preprocess_with_pca_dim=500"
   ]
  },
  {
   "cell_type": "code",
   "execution_count": null,
   "id": "4ce60654",
   "metadata": {},
   "outputs": [],
   "source": [
    "cpca = CPCA()\n",
    "labels = [0]*131072+[1]*131072+[2]*131072+[3]*131072\n",
    "cpca_transformed5 = cpca.fit_transform(hy_frame.real, bgd_frame_onlyc.real, active_labels=labels, alpha_selection='manual', alpha_value=5, n_alphas_to_return=1)\n",
    "#preprocess_with_pca_dim=500"
   ]
  },
  {
   "cell_type": "code",
   "execution_count": null,
   "id": "d295937b",
   "metadata": {},
   "outputs": [],
   "source": [
    "cpca = CPCA()\n",
    "labels = [0]*131072+[1]*131072+[2]*131072+[3]*131072\n",
    "cpca_transformed6 = cpca.fit_transform(hy_frame.real, bgd_frame_onlyc.real, active_labels=labels, alpha_selection='manual', alpha_value=0, n_alphas_to_return=1)\n",
    "#preprocess_with_pca_dim=500"
   ]
  },
  {
   "cell_type": "code",
   "execution_count": null,
   "id": "99714ba4",
   "metadata": {},
   "outputs": [],
   "source": [
    "cpca_transformed[1][:,0].shape"
   ]
  },
  {
   "cell_type": "code",
   "execution_count": null,
   "id": "1a477624",
   "metadata": {},
   "outputs": [],
   "source": [
    "plt.scatter(cpca_transformed[1][:,0], cpca_transformed[1][:,1])"
   ]
  },
  {
   "cell_type": "code",
   "execution_count": null,
   "id": "379a1826",
   "metadata": {},
   "outputs": [],
   "source": [
    "plt.scatter(cpca_transformed3[:,0], cpca_transformed3[:,1])"
   ]
  },
  {
   "cell_type": "code",
   "execution_count": null,
   "id": "096323df",
   "metadata": {},
   "outputs": [],
   "source": [
    "#cpca with redone labels with alpha = 3\n",
    "plt.scatter(cpca_transformed3[:,0], cpca_transformed3[:,1])"
   ]
  },
  {
   "cell_type": "code",
   "execution_count": null,
   "id": "45725cae",
   "metadata": {},
   "outputs": [],
   "source": [
    "#cpca with redone labels with alpha = 1\n",
    "plt.scatter(cpca_transformed4[:,0], cpca_transformed4[:,1])"
   ]
  },
  {
   "cell_type": "code",
   "execution_count": null,
   "id": "50f32b0d",
   "metadata": {},
   "outputs": [],
   "source": [
    "#cpca with redone labels with alpha = 5\n",
    "plt.scatter(cpca_transformed5[:,0], cpca_transformed5[:,1])"
   ]
  },
  {
   "cell_type": "code",
   "execution_count": null,
   "id": "06716c23",
   "metadata": {},
   "outputs": [],
   "source": [
    "from sklearn.cluster import KMeans\n",
    "\n",
    "data = list(zip(cpca_transformed3[:,0], cpca_transformed3[:,1]))\n",
    "inertias = []\n",
    "\n",
    "for i in range(1,5):\n",
    "    kmeans = KMeans(n_clusters=i)\n",
    "    kmeans.fit(data)\n",
    "    inertias.append(kmeans.inertia_)\n",
    "\n",
    "plt.plot(range(1,5), inertias, marker='o')\n",
    "plt.title('Elbow method')\n",
    "plt.xlabel('Number of clusters')\n",
    "plt.ylabel('Inertia')\n",
    "plt.show()"
   ]
  },
  {
   "cell_type": "code",
   "execution_count": null,
   "id": "df295152",
   "metadata": {},
   "outputs": [],
   "source": [
    "from sklearn.cluster import KMeans\n",
    "\n",
    "data = list(zip(cpca_transformed3[:,0], cpca_transformed3[:,1]))\n",
    "inertias = []\n",
    "\n",
    "for i in range(1,6):\n",
    "    kmeans = KMeans(n_clusters=i)\n",
    "    kmeans.fit(data)\n",
    "    inertias.append(kmeans.inertia_)\n",
    "\n",
    "plt.plot(range(1,6), inertias, marker='o')\n",
    "plt.title('Elbow method')\n",
    "plt.xlabel('Number of clusters')\n",
    "plt.ylabel('Inertia')\n",
    "plt.show()"
   ]
  },
  {
   "cell_type": "code",
   "execution_count": null,
   "id": "e7a7ccbf",
   "metadata": {},
   "outputs": [],
   "source": [
    "kmeans = KMeans(n_clusters=2)\n",
    "kmeans.fit(data)\n",
    "\n",
    "plt.scatter(cpca_transformed3[:,0], cpca_transformed3[:,1], c=kmeans.labels_)\n",
    "plt.show()"
   ]
  },
  {
   "cell_type": "code",
   "execution_count": null,
   "id": "78f99582",
   "metadata": {},
   "outputs": [],
   "source": [
    "kmeans = KMeans(n_clusters=3)\n",
    "kmeans.fit(data)\n",
    "\n",
    "plt.scatter(cpca_transformed3[:,0], cpca_transformed3[:,1], c=kmeans.labels_)\n",
    "plt.show()"
   ]
  },
  {
   "cell_type": "code",
   "execution_count": null,
   "id": "9928b8b1",
   "metadata": {},
   "outputs": [],
   "source": [
    "from sklearn.cluster import KMeans\n",
    "\n",
    "data = list(zip(cpca_transformed4[:,0], cpca_transformed4[:,1]))\n",
    "inertias = []\n",
    "\n",
    "for i in range(1,5):\n",
    "    kmeans = KMeans(n_clusters=i)\n",
    "    kmeans.fit(data)\n",
    "    inertias.append(kmeans.inertia_)\n",
    "\n",
    "plt.plot(range(1,5), inertias, marker='o')\n",
    "plt.title('Elbow method')\n",
    "plt.xlabel('Number of clusters')\n",
    "plt.ylabel('Inertia')\n",
    "plt.show()"
   ]
  },
  {
   "cell_type": "code",
   "execution_count": null,
   "id": "bdc6a848",
   "metadata": {},
   "outputs": [],
   "source": [
    "kmeans = KMeans(n_clusters=3)\n",
    "data_clusters = kmeans.fit_predict(data)\n",
    "\n",
    "LABEL_COLOR_MAP = {0:'red', 1 : 'green' ,2 : 'blue'}\n",
    "label_color=[LABEL_COLOR_MAP[l] for l in data_clusters]\n",
    "\n",
    "plt.scatter(cpca_transformed4[:,0], cpca_transformed4[:,1], c=label_color)\n",
    "plt.show()"
   ]
  },
  {
   "cell_type": "code",
   "execution_count": null,
   "id": "ba318150",
   "metadata": {},
   "outputs": [],
   "source": [
    "kmeans = KMeans(n_clusters=4)\n",
    "data_clusters = kmeans.fit_predict(data)\n",
    "\n",
    "LABEL_COLOR_MAP = {0:'black', 1 : 'cyan' ,2 : 'orange', 3: 'red'}\n",
    "label_color=[LABEL_COLOR_MAP[l] for l in data_clusters]\n",
    "\n",
    "plt.scatter(cpca_transformed4[:,0], cpca_transformed4[:,1], c=label_color)\n",
    "plt.show()"
   ]
  },
  {
   "cell_type": "code",
   "execution_count": null,
   "id": "36d664f6",
   "metadata": {},
   "outputs": [],
   "source": [
    "(kmeans.labels_ == data_clusters).all()"
   ]
  },
  {
   "cell_type": "code",
   "execution_count": null,
   "id": "6f92e0a0",
   "metadata": {},
   "outputs": [],
   "source": [
    "labels = np.reshape(data_clusters, (524288,1))"
   ]
  },
  {
   "cell_type": "code",
   "execution_count": null,
   "id": "56046812",
   "metadata": {},
   "outputs": [],
   "source": [
    "unique_values, counts = np.unique(labels, return_counts=True)\n",
    "\n",
    "print(unique_values) \n",
    "print(counts)"
   ]
  },
  {
   "cell_type": "code",
   "execution_count": null,
   "id": "09eb524b",
   "metadata": {},
   "outputs": [],
   "source": [
    "hy_frame_wlabel = np.append(hy_frame, labels, axis = 1)"
   ]
  },
  {
   "cell_type": "code",
   "execution_count": null,
   "id": "da110500",
   "metadata": {},
   "outputs": [],
   "source": [
    "ms1_arr_masked_hy = np.load('/data/MRSI/Naren2/FURI2/mayomrs_aligned/ms/RMS01/redo/ms1_arr_masked_hy_new.npy')"
   ]
  },
  {
   "cell_type": "code",
   "execution_count": null,
   "id": "a44abb35",
   "metadata": {},
   "outputs": [],
   "source": [
    "ms2_arr_masked_hy = np.load('/data/MRSI/Naren2/FURI2/mayomrs_aligned/ms/RMS02/redo/ms2_arr_masked_hy_new.npy')"
   ]
  },
  {
   "cell_type": "code",
   "execution_count": null,
   "id": "31cf921c",
   "metadata": {},
   "outputs": [],
   "source": [
    "ms1_arr_hy_wlabels_re = ms1_arr_masked_hy_re.reshape(32,64,64,2048)"
   ]
  },
  {
   "cell_type": "code",
   "execution_count": null,
   "id": "58a684ab",
   "metadata": {},
   "outputs": [],
   "source": [
    "ms1_arr_hy_wlabels = hy_frame_wlabel[0:131072]\n",
    "ms2_arr_hy_wlabels = hy_frame_wlabel[131072:262144]\n",
    "ms3_arr_hy_wlabels = hy_frame_wlabel[262144:393216]\n",
    "ms5_arr_hy_wlabels = hy_frame_wlabel[393216:524288]"
   ]
  },
  {
   "cell_type": "code",
   "execution_count": null,
   "id": "5b3a3937",
   "metadata": {},
   "outputs": [],
   "source": [
    "ms1_arr_hy_wlabels.shape"
   ]
  },
  {
   "cell_type": "code",
   "execution_count": null,
   "id": "498d0df1",
   "metadata": {},
   "outputs": [],
   "source": [
    "ms1_arr_hy_wlabels_re = ms1_arr_hy_wlabels.reshape(32,64,64,2049)\n",
    "ms2_arr_hy_wlabels_re = ms2_arr_hy_wlabels.reshape(32,64,64,2049)\n",
    "ms3_arr_hy_wlabels_re = ms3_arr_hy_wlabels.reshape(32,64,64,2049)\n",
    "ms5_arr_hy_wlabels_re = ms5_arr_hy_wlabels.reshape(32,64,64,2049)"
   ]
  },
  {
   "cell_type": "code",
   "execution_count": null,
   "id": "fc730eb5",
   "metadata": {},
   "outputs": [],
   "source": [
    "ms1_arr_hy_wlabels_re.shape"
   ]
  },
  {
   "cell_type": "code",
   "execution_count": null,
   "id": "12ddc72b",
   "metadata": {},
   "outputs": [],
   "source": [
    "plt.imshow(ms1_arr_masked_hy[14,:,:,750],cmap='inferno')"
   ]
  },
  {
   "cell_type": "code",
   "execution_count": null,
   "id": "5d48a2e1",
   "metadata": {},
   "outputs": [],
   "source": [
    "plt.imshow(ms1_arr_hy_wlabels_re[14,:,:,2048],cmap='inferno')"
   ]
  },
  {
   "cell_type": "code",
   "execution_count": null,
   "id": "cdc1cbc9",
   "metadata": {},
   "outputs": [],
   "source": [
    "ms1_arr_hy_wlabels_re_onlylabels = ms1_arr_hy_wlabels_re[:,:,:,2048]\n",
    "ms2_arr_hy_wlabels_re_onlylabels = ms2_arr_hy_wlabels_re[:,:,:,2048]\n",
    "ms3_arr_hy_wlabels_re_onlylabels = ms3_arr_hy_wlabels_re[:,:,:,2048]\n",
    "ms5_arr_hy_wlabels_re_onlylabels = ms5_arr_hy_wlabels_re[:,:,:,2048]"
   ]
  },
  {
   "cell_type": "code",
   "execution_count": null,
   "id": "21b07788",
   "metadata": {},
   "outputs": [],
   "source": [
    "np.unique(ms1_arr_hy_wlabels_re_onlylabels)"
   ]
  },
  {
   "cell_type": "code",
   "execution_count": null,
   "id": "4a2af9a1",
   "metadata": {},
   "outputs": [],
   "source": [
    "np.unique(ms2_arr_hy_wlabels_re_onlylabels)"
   ]
  },
  {
   "cell_type": "code",
   "execution_count": null,
   "id": "5609317e",
   "metadata": {},
   "outputs": [],
   "source": [
    "np.unique(ms3_arr_hy_wlabels_re_onlylabels)"
   ]
  },
  {
   "cell_type": "code",
   "execution_count": null,
   "id": "24e6e3ed",
   "metadata": {},
   "outputs": [],
   "source": [
    "np.unique(ms5_arr_hy_wlabels_re_onlylabels)"
   ]
  },
  {
   "cell_type": "code",
   "execution_count": null,
   "id": "a0bf5a8e",
   "metadata": {},
   "outputs": [],
   "source": [
    "#saving (samples, features for CPCA)\n",
    "import nibabel as nib\n",
    "ni_img = nib.Nifti1Image(ms5_arr_hy_wlabels_re_onlylabels, affine=np.eye(4))\n",
    "nib.save(ni_img, \"/data/MRSI/Naren2/FURI2/mayomrs_aligned/ms/RMS05/redo/ms5_arr_hy_wlabels_re_onlylabels_4c.nii\")"
   ]
  },
  {
   "cell_type": "code",
   "execution_count": null,
   "id": "80332e01",
   "metadata": {},
   "outputs": [],
   "source": [
    "#saving (samples, features for CPCA)\n",
    "import nibabel as nib\n",
    "ni_img = nib.Nifti1Image(ms1_arr_masked_hy[:,:,:,1000], affine=np.eye(4))\n",
    "nib.save(ni_img, \"/data/MRSI/Naren2/FURI2/mayomrs_aligned/ms/RMS01/redo/ms1_arr_masked_hy_new.nii\")"
   ]
  },
  {
   "cell_type": "code",
   "execution_count": null,
   "id": "5ecb1628",
   "metadata": {},
   "outputs": [],
   "source": [
    "ms1_arr_hy_wlabels_re_onlylabels = nib.load(\"/data/MRSI/Naren2/FURI2/mayomrs_aligned/ms/RMS01/redo/ms1_arr_hy_wlabels_re_onlylabels_4c.nii\").dataobj\n",
    "ms2_arr_hy_wlabels_re_onlylabels = nib.load(\"/data/MRSI/Naren2/FURI2/mayomrs_aligned/ms/RMS02/redo/ms2_arr_hy_wlabels_re_onlylabels_4c.nii\").dataobj\n",
    "ms3_arr_hy_wlabels_re_onlylabels = nib.load(\"/data/MRSI/Naren2/FURI2/mayomrs_aligned/ms/RMS03/redo/ms3_arr_hy_wlabels_re_onlylabels_4c.nii\").dataobj\n",
    "ms5_arr_hy_wlabels_re_onlylabels = nib.load(\"/data/MRSI/Naren2/FURI2/mayomrs_aligned/ms/RMS05/redo/ms5_arr_hy_wlabels_re_onlylabels_4c.nii\").dataobj"
   ]
  },
  {
   "cell_type": "code",
   "execution_count": null,
   "id": "7091f5a5",
   "metadata": {},
   "outputs": [],
   "source": [
    "flair_test_ss_2 = np.array(nib.load('/data/MRSI/Naren2/FURI2/mayomrs_aligned/NarenTemplateSpace/RMS02_flair_ss_256.nii').dataobj)"
   ]
  },
  {
   "cell_type": "code",
   "execution_count": null,
   "id": "6fa82b01",
   "metadata": {},
   "outputs": [],
   "source": [
    "Control1_spectra = nib.load(\"/data/MRSI/Naren2/MRSI/Control01/Control01_spectra_one.nii\").dataobj\n",
    "Control2_spectra = nib.load(\"/data/MRSI/Naren2/MRSI/Control02/Control02_spectra_one.nii\").dataobj\n",
    "Control3_spectra = nib.load(\"/data/MRSI/Naren2/MRSI/Control03/Control03_spectra_one.nii\").dataobj\n",
    "Control4_spectra = nib.load(\"/data/MRSI/Naren2/MRSI/Control04/Control04_spectra_one.nii\").dataobj\n",
    "\n",
    "RMS01_spectra = nib.load(\"/data/MRSI/Naren2/MRSI/RMS01_V3/RMS01_spectra_one.nii\").dataobj\n",
    "RMS02_spectra = nib.load(\"/data/MRSI/Naren2/MRSI/RMS02_V3/RMS02_spectra_one.nii\").dataobj\n",
    "RMS03_spectra = nib.load(\"/data/MRSI/Naren2/MRSI/RMS03_V3/RMS03_spectra_one.nii\").dataobj\n",
    "RMS05_spectra = nib.load(\"/data/MRSI/Naren2/MRSI/RMS05_V3/RMS05_spectra_one.nii\").dataobj\n",
    "\n",
    "Control1_spectra_ss_labels = imageio.imread(\"/data/MRSI/Naren2/MRSI/Control01/Control01_spectra_one_ss_labels.tiff\").transpose()\n",
    "Control2_spectra_ss_labels = imageio.imread(\"/data/MRSI/Naren2/MRSI/Control02/Control02_spectra_one_ss_labels.tif\").transpose()\n",
    "Control3_spectra_ss_labels = imageio.imread(\"/data/MRSI/Naren2/MRSI/Control03/Control03_spectra_one_ss_labels.tif\").transpose()\n",
    "Control4_spectra_ss_labels = imageio.imread(\"/data/MRSI/Naren2/MRSI/Control04/Control04_spectra_one_ss_labels.tiff\").transpose()\n",
    "\n",
    "RMS01_spectra_ss_labels = imageio.imread(\"/data/MRSI/Naren2/MRSI/RMS01_V3/RMS01_spectra_one_ss_labels.tiff\").transpose()\n",
    "RMS02_spectra_ss_labels = imageio.imread(\"/data/MRSI/Naren2/MRSI/RMS02_V3/RMS02_spectra_one_ss_labels.tiff\").transpose()\n",
    "RMS03_spectra_ss_labels = imageio.imread(\"/data/MRSI/Naren2/MRSI/RMS03_V3/RMS03_spectra_one_ss_labels.tiff\").transpose()\n",
    "RMS05_spectra_ss_labels = imageio.imread(\"/data/MRSI/Naren2/MRSI/RMS05_V3/RMS05_spectra_one_ss_labels.tif\").transpose()"
   ]
  },
  {
   "cell_type": "code",
   "execution_count": null,
   "id": "f2cebd19",
   "metadata": {},
   "outputs": [],
   "source": [
    "RMS01_ss = np.ma.masked_where(RMS01_spectra_ss_labels<1, RMS01_spectra) #mask values that are less than 1 in spectral data (gives hyperintensities)\n",
    "RMS01_ss_mask = np.ma.getmask(RMS01_ss) #get only mask (True False) values\n",
    "RMS01_ss = np.where(RMS01_ss_mask, 0, RMS01_ss) #where mask is True (and value is 'masked'), make it 0 and keep everything else\n",
    "RMS02_ss = np.ma.masked_where(RMS02_spectra_ss_labels<1, RMS02_spectra) #mask values that are less than 1 in spectral data (gives hyperintensities)\n",
    "RMS03_ss = np.ma.masked_where(RMS03_spectra_ss_labels<1, RMS03_spectra) #mask values that are less than 1 in spectral data (gives hyperintensities)\n",
    "RMS05_ss = np.ma.masked_where(RMS05_spectra_ss_labels<1, RMS05_spectra) #mask values that are less than 1 in spectral data (gives hyperintensities)"
   ]
  },
  {
   "cell_type": "code",
   "execution_count": null,
   "id": "44b64004",
   "metadata": {},
   "outputs": [],
   "source": [
    "RMS01_ss = np.ma.masked_where(RMS01_spectra_ss_labels<1, RMS01_spectra) #mask values that are less than 1 in spectral data (gives hyperintensities)\n",
    "RMS01_ss_mask = np.ma.getmask(RMS01_ss) #get only mask (True False) values\n",
    "RMS01_ss = np.where(RMS01_ss_mask, 0, RMS01_ss) #where mask is True (and value is 'masked'), make it 0 and keep everything else\n",
    "\n",
    "RMS02_ss = np.ma.masked_where(RMS02_spectra_ss_labels<1, RMS02_spectra) #mask values that are less than 1 in spectral data (gives hyperintensities)\n",
    "RMS02_ss_mask = np.ma.getmask(RMS02_ss) #get only mask (True False) values\n",
    "RMS02_ss = np.where(RMS02_ss_mask, 0, RMS02_ss) #where mask is True (and value is 'masked'), make it 0 and keep everything else\n",
    "\n",
    "RMS03_ss = np.ma.masked_where(RMS03_spectra_ss_labels<1, RMS03_spectra) #mask values that are less than 1 in spectral data (gives hyperintensities)\n",
    "RMS03_ss_mask = np.ma.getmask(RMS03_ss) #get only mask (True False) values\n",
    "RMS03_ss = np.where(RMS03_ss_mask, 0, RMS03_ss) #where mask is True (and value is 'masked'), make it 0 and keep everything else\n",
    "\n",
    "RMS05_ss = np.ma.masked_where(RMS05_spectra_ss_labels<1, RMS05_spectra) #mask values that are less than 1 in spectral data (gives hyperintensities)\n",
    "RMS05_ss_mask = np.ma.getmask(RMS05_ss) #get only mask (True False) values\n",
    "RMS05_ss = np.where(RMS05_ss_mask, 0, RMS05_ss) #where mask is True (and value is 'masked'), make it 0 and keep everything else"
   ]
  },
  {
   "cell_type": "code",
   "execution_count": null,
   "id": "cd769b96",
   "metadata": {},
   "outputs": [],
   "source": [
    "flair_1 = np.array(nib.load('/data/MRSI/Naren2/FURI2/mayomrs_aligned/NarenTemplateSpace/ms/RMS01/RMS01_flair_ss_256.nii').dataobj)\n",
    "flair_2 = np.array(nib.load('/data/MRSI/Naren2/FURI2/mayomrs_aligned/NarenTemplateSpace/RMS02_flair_ss_256.nii').dataobj)\n",
    "flair_3 = np.array(nib.load('/data/MRSI/Naren2/FURI2/mayomrs_aligned/NarenTemplateSpace/ms/RMS03/RMS03_flair_ss_256.nii').dataobj)\n",
    "flair_5 = np.array(nib.load('/data/MRSI/Naren2/FURI2/mayomrs_aligned/NarenTemplateSpace/RMS05_flair_ss_256.nii').dataobj)"
   ]
  },
  {
   "cell_type": "code",
   "execution_count": null,
   "id": "a56ee910",
   "metadata": {},
   "outputs": [],
   "source": [
    "flair_test_ss_2_tp = np.transpose(flair_test_ss_2, (1,0,2))"
   ]
  },
  {
   "cell_type": "code",
   "execution_count": null,
   "id": "c9fa3d32",
   "metadata": {},
   "outputs": [],
   "source": [
    "flair_1_tp = np.rot90(np.fliplr(flair_1))\n",
    "flair_2_tp = np.rot90(np.fliplr(flair_2))\n",
    "flair_3_tp = np.flip(np.transpose(flair_3, (2,1,0)))\n",
    "flair_5_tp = np.rot90(np.fliplr(flair_5))"
   ]
  },
  {
   "cell_type": "code",
   "execution_count": null,
   "id": "e94218a0",
   "metadata": {},
   "outputs": [],
   "source": [
    "plt.imshow(flair_5_tp[140,:,:],cmap='inferno')"
   ]
  },
  {
   "cell_type": "code",
   "execution_count": null,
   "id": "248a923d",
   "metadata": {},
   "outputs": [],
   "source": [
    "plt.imshow(RMS05_ss[23,:,:],cmap='inferno')"
   ]
  },
  {
   "cell_type": "code",
   "execution_count": null,
   "id": "7a231d11",
   "metadata": {},
   "outputs": [],
   "source": [
    "RMS01_spectra_ants = ants.from_numpy(RMS01_ss)\n",
    "RMS02_spectra_ants = ants.from_numpy(RMS02_ss)\n",
    "RMS03_spectra_ants = ants.from_numpy(RMS03_ss)\n",
    "RMS05_spectra_ants = ants.from_numpy(RMS05_ss)\n",
    "\n",
    "RMS01_flair_ants = ants.from_numpy(flair_1_tp)\n",
    "RMS02_flair_ants = ants.from_numpy(flair_2_tp)\n",
    "RMS03_flair_ants = ants.from_numpy(flair_3_tp)\n",
    "RMS05_flair_ants = ants.from_numpy(flair_5_tp)"
   ]
  },
  {
   "cell_type": "code",
   "execution_count": null,
   "id": "e6557e38",
   "metadata": {},
   "outputs": [],
   "source": [
    "RMS01_flair_ants_re = ants.resample_image(RMS01_flair_ants, (32, 64, 64), use_voxels=True, interp_type=1)\n",
    "RMS02_flair_ants_re = ants.resample_image(RMS02_flair_ants, (32, 64, 64), use_voxels=True, interp_type=1)\n",
    "RMS03_flair_ants_re = ants.resample_image(RMS03_flair_ants, (32, 64, 64), use_voxels=True, interp_type=1)\n",
    "RMS05_flair_ants_re = ants.resample_image(RMS05_flair_ants, (32, 64, 64), use_voxels=True, interp_type=1)"
   ]
  },
  {
   "cell_type": "code",
   "execution_count": null,
   "id": "c2984c80",
   "metadata": {},
   "outputs": [],
   "source": [
    "RMS01_flair_ants_re.set_spacing((1,1,1))\n",
    "RMS02_flair_ants_re.set_spacing((1,1,1))\n",
    "RMS03_flair_ants_re.set_spacing((1,1,1))\n",
    "RMS05_flair_ants_re.set_spacing((1,1,1))"
   ]
  },
  {
   "cell_type": "code",
   "execution_count": null,
   "id": "93474a9d",
   "metadata": {},
   "outputs": [],
   "source": [
    "ants.plot(RMS05_flair_ants_re, overlay=RMS05_spectra_ants, overlay_alpha = 0.5, axis=0, nslices=3, figsize=4)"
   ]
  },
  {
   "cell_type": "code",
   "execution_count": null,
   "id": "8771f5de",
   "metadata": {},
   "outputs": [],
   "source": [
    "RMS01_flair2spectra = ants.registration(fixed = RMS01_spectra_ants,\n",
    "                                moving = RMS01_flair_ants_re, \n",
    "                                type_of_transform = 'SyN',aff_metric='mattes')"
   ]
  },
  {
   "cell_type": "code",
   "execution_count": null,
   "id": "5b181ef2",
   "metadata": {},
   "outputs": [],
   "source": [
    "RMS02_flair2spectra = ants.registration(fixed = RMS02_spectra_ants,\n",
    "                                moving = RMS02_flair_ants_re, \n",
    "                                type_of_transform = 'SyN',aff_metric='mattes')"
   ]
  },
  {
   "cell_type": "code",
   "execution_count": null,
   "id": "19325a80",
   "metadata": {},
   "outputs": [],
   "source": [
    "RMS03_flair2spectra = ants.registration(fixed = RMS03_spectra_ants,\n",
    "                                moving = RMS03_flair_ants_re, \n",
    "                                type_of_transform = 'SyN',aff_metric='mattes')"
   ]
  },
  {
   "cell_type": "code",
   "execution_count": null,
   "id": "fd1fbe22",
   "metadata": {},
   "outputs": [],
   "source": [
    "RMS05_flair2spectra = ants.registration(fixed = RMS05_spectra_ants,\n",
    "                                moving = RMS05_flair_ants_re, \n",
    "                                type_of_transform = 'SyN',aff_metric='mattes')"
   ]
  },
  {
   "cell_type": "code",
   "execution_count": null,
   "id": "9fd33de1",
   "metadata": {},
   "outputs": [],
   "source": [
    "import pickle \n",
    "  \n",
    "try: \n",
    "    geeky_file = open('/data/MRSI/Naren2/FURI2/mayomrs_aligned/ms/RMS05/redo/RMS05_flair2spectradict', 'wb') \n",
    "    pickle.dump(RMS05_flair2spectra, geeky_file) \n",
    "    geeky_file.close() \n",
    "  \n",
    "except: \n",
    "    print(\"Something went wrong\")"
   ]
  },
  {
   "cell_type": "code",
   "execution_count": null,
   "id": "1e47f815",
   "metadata": {},
   "outputs": [],
   "source": [
    "with open('/data/MRSI/Naren2/FURI2/mayomrs_aligned/ms/RMS01/redo/RMS01_flair2spectradict', 'rb') as f:\n",
    "    RMS01_flair2spectra = pickle.load(f)\n",
    "with open('/data/MRSI/Naren2/FURI2/mayomrs_aligned/ms/RMS02/redo/RMS02_flair2spectradict', 'rb') as f:\n",
    "    RMS02_flair2spectra = pickle.load(f)\n",
    "with open('/data/MRSI/Naren2/FURI2/mayomrs_aligned/ms/RMS03/redo/RMS03_flair2spectradict', 'rb') as f:\n",
    "    RMS03_flair2spectra = pickle.load(f)\n",
    "with open('/data/MRSI/Naren2/FURI2/mayomrs_aligned/ms/RMS05/redo/RMS05_flair2spectradict', 'rb') as f:\n",
    "    RMS05_flair2spectra = pickle.load(f)"
   ]
  },
  {
   "cell_type": "code",
   "execution_count": null,
   "id": "71d38cd6",
   "metadata": {},
   "outputs": [],
   "source": [
    "RMS05_flair2spectra"
   ]
  },
  {
   "cell_type": "code",
   "execution_count": null,
   "id": "a362f666",
   "metadata": {},
   "outputs": [],
   "source": [
    "ants.plot(RMS02_flair_ants_re, overlay=RMS02_spectra_ants, overlay_alpha = 0.6, axis=2, nslices=3, figsize=4)"
   ]
  },
  {
   "cell_type": "code",
   "execution_count": null,
   "id": "8566c874",
   "metadata": {},
   "outputs": [],
   "source": [
    "ants.plot(RMS02_flair2spectra['warpedmovout'], overlay=RMS02_spectra_ants, overlay_alpha = 0.6, axis=2, nslices=3, figsize=4)"
   ]
  },
  {
   "cell_type": "code",
   "execution_count": null,
   "id": "85a332ce",
   "metadata": {},
   "outputs": [],
   "source": [
    "RMS01_flair2spectra['warpedmovout']"
   ]
  },
  {
   "cell_type": "code",
   "execution_count": null,
   "id": "9ec0180a",
   "metadata": {},
   "outputs": [],
   "source": [
    "#warping flair2spectra directly to highres\n",
    "RMS01_flair2spectra_re_highres = ants.resample_image(RMS01_flair2spectra['warpedmovout'], (256, 256, 256), use_voxels=True, interp_type=1)\n",
    "RMS02_flair2spectra_re_highres = ants.resample_image(RMS02_flair2spectra['warpedmovout'], (256, 256, 256), use_voxels=True, interp_type=1)\n",
    "RMS03_flair2spectra_re_highres = ants.resample_image(RMS03_flair2spectra['warpedmovout'], (256, 256, 256), use_voxels=True, interp_type=1)\n",
    "RMS05_flair2spectra_re_highres = ants.resample_image(RMS05_flair2spectra['warpedmovout'], (256, 256, 256), use_voxels=True, interp_type=1)\n",
    "RMS01_flair2spectra_re_highres.set_spacing((1,1,1))\n",
    "RMS02_flair2spectra_re_highres.set_spacing((1,1,1))\n",
    "RMS03_flair2spectra_re_highres.set_spacing((1,1,1))\n",
    "RMS05_flair2spectra_re_highres.set_spacing((1,1,1))"
   ]
  },
  {
   "cell_type": "code",
   "execution_count": null,
   "id": "7db34a33",
   "metadata": {},
   "outputs": [],
   "source": [
    "RMS01_flair2spectra_re_highres"
   ]
  },
  {
   "cell_type": "code",
   "execution_count": null,
   "id": "66100ec0",
   "metadata": {},
   "outputs": [],
   "source": [
    "RMS01_flair2spectra_2highres = ants.registration(fixed = RMS01_flair_ants,\n",
    "                                moving = RMS01_flair2spectra_re_highres, \n",
    "                                type_of_transform = 'SyN',aff_metric='mattes')\n",
    "RMS02_flair2spectra_2highres = ants.registration(fixed = RMS02_flair_ants,\n",
    "                                moving = RMS02_flair2spectra_re_highres, \n",
    "                                type_of_transform = 'SyN',aff_metric='mattes')\n",
    "RMS03_flair2spectra_2highres = ants.registration(fixed = RMS03_flair_ants,\n",
    "                                moving = RMS03_flair2spectra_re_highres, \n",
    "                                type_of_transform = 'SyN',aff_metric='mattes')\n",
    "RMS05_flair2spectra_2highres = ants.registration(fixed = RMS05_flair_ants,\n",
    "                                moving = RMS05_flair2spectra_re_highres, \n",
    "                                type_of_transform = 'SyN',aff_metric='mattes')"
   ]
  },
  {
   "cell_type": "code",
   "execution_count": null,
   "id": "d55e07e9",
   "metadata": {},
   "outputs": [],
   "source": [
    "ms1_arr_hy_wlabels_re_onlylabels = np.array(nib.load(\"/data/MRSI/Naren2/FURI2/mayomrs_aligned/ms/RMS01/redo/ms1_arr_hy_wlabels_re_onlylabels_4c.nii\").dataobj)\n",
    "ms2_arr_hy_wlabels_re_onlylabels = np.array(nib.load(\"/data/MRSI/Naren2/FURI2/mayomrs_aligned/ms/RMS02/redo/ms2_arr_hy_wlabels_re_onlylabels_4c.nii\").dataobj)\n",
    "ms3_arr_hy_wlabels_re_onlylabels = np.array(nib.load(\"/data/MRSI/Naren2/FURI2/mayomrs_aligned/ms/RMS03/redo/ms3_arr_hy_wlabels_re_onlylabels_4c.nii\").dataobj)\n",
    "ms5_arr_hy_wlabels_re_onlylabels = np.array(nib.load(\"/data/MRSI/Naren2/FURI2/mayomrs_aligned/ms/RMS05/redo/ms5_arr_hy_wlabels_re_onlylabels_4c.nii\").dataobj)"
   ]
  },
  {
   "cell_type": "code",
   "execution_count": null,
   "id": "90ac58ed",
   "metadata": {},
   "outputs": [],
   "source": [
    "RMS01_hy_clustered_ants = ants.from_numpy(ms1_arr_hy_wlabels_re_onlylabels)\n",
    "RMS02_hy_clustered_ants = ants.from_numpy(ms2_arr_hy_wlabels_re_onlylabels)\n",
    "RMS03_hy_clustered_ants = ants.from_numpy(ms3_arr_hy_wlabels_re_onlylabels)\n",
    "RMS05_hy_clustered_ants = ants.from_numpy(ms5_arr_hy_wlabels_re_onlylabels)"
   ]
  },
  {
   "cell_type": "code",
   "execution_count": null,
   "id": "c12d38a1",
   "metadata": {},
   "outputs": [],
   "source": [
    "#warping lowres clustered labels directly to highres using fwdtransforms\n",
    "RMS01_hy_clustered_ants_re_highres = ants.resample_image(RMS01_hy_clustered_ants, (256, 256, 256), use_voxels=True, interp_type=1)\n",
    "RMS02_hy_clustered_ants_re_highres = ants.resample_image(RMS02_hy_clustered_ants, (256, 256, 256), use_voxels=True, interp_type=1)\n",
    "RMS03_hy_clustered_ants_re_highres = ants.resample_image(RMS03_hy_clustered_ants, (256, 256, 256), use_voxels=True, interp_type=1)\n",
    "RMS05_hy_clustered_ants_re_highres = ants.resample_image(RMS05_hy_clustered_ants, (256, 256, 256), use_voxels=True, interp_type=1)\n",
    "RMS01_hy_clustered_ants_re_highres.set_spacing((1,1,1))\n",
    "RMS02_hy_clustered_ants_re_highres.set_spacing((1,1,1))\n",
    "RMS03_hy_clustered_ants_re_highres.set_spacing((1,1,1))\n",
    "RMS05_hy_clustered_ants_re_highres.set_spacing((1,1,1))"
   ]
  },
  {
   "cell_type": "code",
   "execution_count": null,
   "id": "cf152cee",
   "metadata": {},
   "outputs": [],
   "source": [
    "hylabelsRMS01_clustered_2highres = ants.apply_transforms(fixed=RMS01_flair_ants, moving=RMS01_hy_clustered_ants_re_highres, transformlist= RMS01_flair2spectra_2highres['fwdtransforms'], interpolator='nearestNeighbor', verbose=True)\n",
    "hylabelsRMS02_clustered_2highres = ants.apply_transforms(fixed=RMS02_flair_ants, moving=RMS02_hy_clustered_ants_re_highres, transformlist= RMS02_flair2spectra_2highres['fwdtransforms'], interpolator='nearestNeighbor', verbose=True)\n",
    "hylabelsRMS03_clustered_2highres = ants.apply_transforms(fixed=RMS03_flair_ants, moving=RMS03_hy_clustered_ants_re_highres, transformlist= RMS03_flair2spectra_2highres['fwdtransforms'], interpolator='nearestNeighbor', verbose=True)\n",
    "hylabelsRMS05_clustered_2highres = ants.apply_transforms(fixed=RMS05_flair_ants, moving=RMS05_hy_clustered_ants_re_highres, transformlist= RMS05_flair2spectra_2highres['fwdtransforms'], interpolator='nearestNeighbor', verbose=True)"
   ]
  },
  {
   "cell_type": "code",
   "execution_count": null,
   "id": "dbf45e82",
   "metadata": {},
   "outputs": [],
   "source": [
    "ants.plot(RMS02_flair_ants_re, overlay=RMS02_hy_clustered_ants, overlay_alpha = 0.6, axis=1, nslices=5, figsize=4)"
   ]
  },
  {
   "cell_type": "code",
   "execution_count": null,
   "id": "389112c7",
   "metadata": {},
   "outputs": [],
   "source": [
    "ants.plot(RMS02_flair_ants, overlay=hylabelsRMS02_clustered_2highres, overlay_alpha = 0.6, axis=1, nslices=5, figsize=4)"
   ]
  },
  {
   "cell_type": "code",
   "execution_count": null,
   "id": "d0ae8805",
   "metadata": {},
   "outputs": [],
   "source": [
    "hylabelsRMS01_clustered_2highres_resampled_npy = hylabelsRMS01_clustered_2highres.numpy()\n",
    "hylabelsRMS02_clustered_2highres_resampled_npy = hylabelsRMS02_clustered_2highres.numpy()\n",
    "hylabelsRMS03_clustered_2highres_resampled_npy = hylabelsRMS03_clustered_2highres.numpy()\n",
    "hylabelsRMS05_clustered_2highres_resampled_npy = hylabelsRMS05_clustered_2highres.numpy()"
   ]
  },
  {
   "cell_type": "code",
   "execution_count": null,
   "id": "9ba8e691",
   "metadata": {},
   "outputs": [],
   "source": [
    "hylabelsRMS01_clustered_2highres.unique()"
   ]
  },
  {
   "cell_type": "code",
   "execution_count": null,
   "id": "e0fcee0d",
   "metadata": {},
   "outputs": [],
   "source": [
    "#saving hyperintensity label clusters projected back to high res as numpy\n",
    "ni_img = nib.Nifti1Image(hylabelsRMS01_clustered_2highres_resampled_npy, affine=np.eye(4))\n",
    "nib.save(ni_img, \"/data/MRSI/Naren2/FURI2/mayomrs_aligned/ms/RMS01/redo/hylabelsRMS01_clustered_2highres_resampled.nii\")\n",
    "ni_img2 = nib.Nifti1Image(hylabelsRMS02_clustered_2highres_resampled_npy, affine=np.eye(4))\n",
    "nib.save(ni_img2, \"/data/MRSI/Naren2/FURI2/mayomrs_aligned/ms/RMS02/redo/hylabelsRMS02_clustered_2highres_resampled.nii\")\n",
    "ni_img3 = nib.Nifti1Image(hylabelsRMS03_clustered_2highres_resampled_npy, affine=np.eye(4))\n",
    "nib.save(ni_img3, \"/data/MRSI/Naren2/FURI2/mayomrs_aligned/ms/RMS03/redo/hylabelsRMS03_clustered_2highres_resampled.nii\")\n",
    "ni_img4 = nib.Nifti1Image(hylabelsRMS05_clustered_2highres_resampled_npy, affine=np.eye(4))\n",
    "nib.save(ni_img4, \"/data/MRSI/Naren2/FURI2/mayomrs_aligned/ms/RMS05/redo/hylabelsRMS05_clustered_2highres_resampled.nii\")"
   ]
  },
  {
   "cell_type": "code",
   "execution_count": null,
   "id": "4b5b3c9a",
   "metadata": {},
   "outputs": [],
   "source": [
    "atlas = np.array(nib.load('/data/MRSI/Naren2/FURI2/mayomrs_aligned/NarenTemplateSpace/icbm452_atlas_warp5_sinc.nii').dataobj)"
   ]
  },
  {
   "cell_type": "code",
   "execution_count": null,
   "id": "fae0ea88",
   "metadata": {},
   "outputs": [],
   "source": [
    "atlas.shape"
   ]
  },
  {
   "cell_type": "code",
   "execution_count": null,
   "id": "8518d34f",
   "metadata": {},
   "outputs": [],
   "source": [
    "#removing last dimension\n",
    "atlas = atlas[:,:,:,0]"
   ]
  },
  {
   "cell_type": "code",
   "execution_count": null,
   "id": "925df3bf",
   "metadata": {},
   "outputs": [],
   "source": [
    "atlas_tp = np.transpose(atlas)\n",
    "atlas_tp_vflip = np.fliplr(atlas_tp)\n",
    "atlas_tp_hflip = np.flipud(atlas_tp_vflip)"
   ]
  },
  {
   "cell_type": "code",
   "execution_count": null,
   "id": "b841b949",
   "metadata": {},
   "outputs": [],
   "source": [
    "atlas_tp_hflip.shape"
   ]
  },
  {
   "cell_type": "code",
   "execution_count": null,
   "id": "9ed0b3d8",
   "metadata": {},
   "outputs": [],
   "source": [
    "plt.imshow(atlas_tp_hflip[:,100,:],cmap='inferno')"
   ]
  },
  {
   "cell_type": "code",
   "execution_count": null,
   "id": "c5407c0b",
   "metadata": {},
   "outputs": [],
   "source": [
    "plt.imshow(RMS02_flair_ants.numpy()[:,130,:], cmap='inferno')"
   ]
  },
  {
   "cell_type": "code",
   "execution_count": null,
   "id": "e70d5b96",
   "metadata": {},
   "outputs": [],
   "source": [
    "atlas_ants = ants.from_numpy(atlas_tp_hflip)"
   ]
  },
  {
   "cell_type": "code",
   "execution_count": null,
   "id": "a158d7e4",
   "metadata": {},
   "outputs": [],
   "source": [
    "#IMPORTANT STEP. Make sure atlas has float datatype. Otherwise, registration won't work well\n",
    "atlas_ants = atlas_ants.clone(pixeltype = 'float')"
   ]
  },
  {
   "cell_type": "code",
   "execution_count": null,
   "id": "168a09c7",
   "metadata": {},
   "outputs": [],
   "source": [
    "#warping flair2spectra directly to atlas\n",
    "RMS01_flair2spectra_re_atlas = ants.resample_image(RMS01_flair2spectra['warpedmovout'], (148, 188, 149), use_voxels=True, interp_type=1)\n",
    "RMS02_flair2spectra_re_atlas = ants.resample_image(RMS02_flair2spectra['warpedmovout'], (148, 188, 149), use_voxels=True, interp_type=1)\n",
    "RMS03_flair2spectra_re_atlas = ants.resample_image(RMS03_flair2spectra['warpedmovout'], (148, 188, 149), use_voxels=True, interp_type=1)\n",
    "RMS05_flair2spectra_re_atlas = ants.resample_image(RMS05_flair2spectra['warpedmovout'], (148, 188, 149), use_voxels=True, interp_type=1)\n",
    "RMS01_flair2spectra_re_atlas.set_spacing((1,1,1))\n",
    "RMS02_flair2spectra_re_atlas.set_spacing((1,1,1))\n",
    "RMS03_flair2spectra_re_atlas.set_spacing((1,1,1))\n",
    "RMS05_flair2spectra_re_atlas.set_spacing((1,1,1))"
   ]
  },
  {
   "cell_type": "code",
   "execution_count": null,
   "id": "d26a7869",
   "metadata": {},
   "outputs": [],
   "source": [
    "atlas_ants"
   ]
  },
  {
   "cell_type": "code",
   "execution_count": null,
   "id": "c82769c8",
   "metadata": {},
   "outputs": [],
   "source": [
    "RMS01_flair2spectra_re_atlas"
   ]
  },
  {
   "cell_type": "code",
   "execution_count": null,
   "id": "40b18cde",
   "metadata": {},
   "outputs": [],
   "source": [
    "RMS01_flair2spectra_2atlas = ants.registration(fixed = atlas_ants,\n",
    "                                moving = RMS01_flair2spectra_re_atlas, \n",
    "                                type_of_transform = 'SyN',aff_metric='mattes')\n",
    "RMS02_flair2spectra_2atlas = ants.registration(fixed = atlas_ants,\n",
    "                                moving = RMS02_flair2spectra_re_atlas, \n",
    "                                type_of_transform = 'SyN',aff_metric='mattes')\n",
    "RMS03_flair2spectra_2atlas = ants.registration(fixed = atlas_ants,\n",
    "                                moving = RMS03_flair2spectra_re_atlas, \n",
    "                                type_of_transform = 'SyN',aff_metric='mattes')\n",
    "RMS05_flair2spectra_2atlas = ants.registration(fixed = atlas_ants,\n",
    "                                moving = RMS05_flair2spectra_re_atlas, \n",
    "                                type_of_transform = 'SyN',aff_metric='mattes')"
   ]
  },
  {
   "cell_type": "code",
   "execution_count": null,
   "id": "638f0973",
   "metadata": {},
   "outputs": [],
   "source": [
    "RMS01_flair2spectra_2atlas[]"
   ]
  },
  {
   "cell_type": "code",
   "execution_count": null,
   "id": "6927e173",
   "metadata": {},
   "outputs": [],
   "source": [
    "#warping lowres clustered labels directly to atlas using fwdtransforms\n",
    "RMS01_hy_clustered_ants_re_atlas = ants.resample_image(RMS01_hy_clustered_ants, (148, 188, 149), use_voxels=True, interp_type=1)\n",
    "RMS02_hy_clustered_ants_re_atlas = ants.resample_image(RMS02_hy_clustered_ants, (148, 188, 149), use_voxels=True, interp_type=1)\n",
    "RMS03_hy_clustered_ants_re_atlas = ants.resample_image(RMS03_hy_clustered_ants, (148, 188, 149), use_voxels=True, interp_type=1)\n",
    "RMS05_hy_clustered_ants_re_atlas = ants.resample_image(RMS05_hy_clustered_ants, (148, 188, 149), use_voxels=True, interp_type=1)\n",
    "RMS01_hy_clustered_ants_re_atlas.set_spacing((1,1,1))\n",
    "RMS02_hy_clustered_ants_re_atlas.set_spacing((1,1,1))\n",
    "RMS03_hy_clustered_ants_re_atlas.set_spacing((1,1,1))\n",
    "RMS05_hy_clustered_ants_re_atlas.set_spacing((1,1,1))"
   ]
  },
  {
   "cell_type": "code",
   "execution_count": null,
   "id": "8e6f6a6b",
   "metadata": {},
   "outputs": [],
   "source": [
    "hylabelsRMS01_clustered_2atlas = ants.apply_transforms(fixed=atlas_ants, moving=RMS01_hy_clustered_ants_re_atlas, transformlist= RMS01_flair2spectra_2atlas['fwdtransforms'], interpolator='nearestNeighbor', verbose=True)\n",
    "hylabelsRMS02_clustered_2atlas = ants.apply_transforms(fixed=atlas_ants, moving=RMS02_hy_clustered_ants_re_atlas, transformlist= RMS02_flair2spectra_2atlas['fwdtransforms'], interpolator='nearestNeighbor', verbose=True)\n",
    "hylabelsRMS03_clustered_2atlas = ants.apply_transforms(fixed=atlas_ants, moving=RMS03_hy_clustered_ants_re_atlas, transformlist= RMS03_flair2spectra_2atlas['fwdtransforms'], interpolator='nearestNeighbor', verbose=True)\n",
    "hylabelsRMS05_clustered_2atlas = ants.apply_transforms(fixed=atlas_ants, moving=RMS05_hy_clustered_ants_re_atlas, transformlist= RMS05_flair2spectra_2atlas['fwdtransforms'], interpolator='nearestNeighbor', verbose=True)"
   ]
  },
  {
   "cell_type": "code",
   "execution_count": null,
   "id": "a91f76cf",
   "metadata": {},
   "outputs": [],
   "source": [
    "ants.plot(atlas_ants, overlay=hylabelsRMS02_clustered_2atlas, overlay_alpha = 0.6, axis=1, nslices=5, figsize=4)"
   ]
  },
  {
   "cell_type": "code",
   "execution_count": null,
   "id": "a2308a0b",
   "metadata": {},
   "outputs": [],
   "source": [
    "hylabelsRMS01_clustered_2atlas_resampled_npy = hylabelsRMS01_clustered_2atlas.numpy()\n",
    "hylabelsRMS02_clustered_2atlas_resampled_npy = hylabelsRMS02_clustered_2atlas.numpy()\n",
    "hylabelsRMS03_clustered_2atlas_resampled_npy = hylabelsRMS03_clustered_2atlas.numpy()\n",
    "hylabelsRMS05_clustered_2atlas_resampled_npy = hylabelsRMS05_clustered_2atlas.numpy()"
   ]
  },
  {
   "cell_type": "code",
   "execution_count": null,
   "id": "cd78a302",
   "metadata": {},
   "outputs": [],
   "source": [
    "np.unique(hylabelsRMS05_clustered_2atlas_resampled_npy)"
   ]
  },
  {
   "cell_type": "code",
   "execution_count": null,
   "id": "c9776839",
   "metadata": {},
   "outputs": [],
   "source": [
    "#saving hyperintensity label clusters projected back to high res as numpy\n",
    "ni_img = nib.Nifti1Image(hylabelsRMS01_clustered_2atlas_resampled_npy, affine=np.eye(4))\n",
    "nib.save(ni_img, \"/data/MRSI/Naren2/FURI2/mayomrs_aligned/ms/RMS01/redo/hylabelsRMS01_clustered_2atlas.nii\")\n",
    "ni_img2 = nib.Nifti1Image(hylabelsRMS02_clustered_2atlas_resampled_npy, affine=np.eye(4))\n",
    "nib.save(ni_img2, \"/data/MRSI/Naren2/FURI2/mayomrs_aligned/ms/RMS02/redo/hylabelsRMS02_clustered_2atlas.nii\")\n",
    "ni_img3 = nib.Nifti1Image(hylabelsRMS03_clustered_2atlas_resampled_npy, affine=np.eye(4))\n",
    "nib.save(ni_img3, \"/data/MRSI/Naren2/FURI2/mayomrs_aligned/ms/RMS03/redo/hylabelsRMS03_clustered_2atlas.nii\")\n",
    "ni_img4 = nib.Nifti1Image(hylabelsRMS05_clustered_2atlas_resampled_npy, affine=np.eye(4))\n",
    "nib.save(ni_img4, \"/data/MRSI/Naren2/FURI2/mayomrs_aligned/ms/RMS05/redo/hylabelsRMS05_clustered_2atlas.nii\")"
   ]
  },
  {
   "cell_type": "code",
   "execution_count": null,
   "id": "81ae8444",
   "metadata": {},
   "outputs": [],
   "source": [
    "test1 = nib.load(\"/data/MRSI/Naren2/FURI2/mayomrs_aligned/ms/RMS01/redo/hylabelsRMS01_clustered_2atlas.nii\").dataobj\n",
    "test2 = nib.load(\"/data/MRSI/Naren2/FURI2/mayomrs_aligned/ms/RMS02/redo/hylabelsRMS02_clustered_2atlas.nii\").dataobj\n",
    "test3 = nib.load(\"/data/MRSI/Naren2/FURI2/mayomrs_aligned/ms/RMS03/redo/hylabelsRMS03_clustered_2atlas.nii\").dataobj\n",
    "test5 = nib.load(\"/data/MRSI/Naren2/FURI2/mayomrs_aligned/ms/RMS05/redo/hylabelsRMS05_clustered_2atlas.nii\").dataobj"
   ]
  },
  {
   "cell_type": "code",
   "execution_count": null,
   "id": "5d318f93",
   "metadata": {},
   "outputs": [],
   "source": [
    "np.unique(test1)"
   ]
  },
  {
   "cell_type": "code",
   "execution_count": null,
   "id": "297333ee",
   "metadata": {},
   "outputs": [],
   "source": [
    "np.unique(test2)"
   ]
  },
  {
   "cell_type": "code",
   "execution_count": null,
   "id": "c78d8164",
   "metadata": {},
   "outputs": [],
   "source": [
    "np.unique(test3)"
   ]
  },
  {
   "cell_type": "code",
   "execution_count": null,
   "id": "a751f964",
   "metadata": {},
   "outputs": [],
   "source": [
    "np.unique(test5)"
   ]
  },
  {
   "cell_type": "code",
   "execution_count": null,
   "id": "5393aaa1",
   "metadata": {},
   "outputs": [],
   "source": [
    "RMS01_flair_ants_re = ants.resample_image(RMS01_flair_ants, (148, 188, 149), use_voxels=True, interp_type=1)\n",
    "RMS02_flair_ants_re = ants.resample_image(RMS02_flair_ants, (148, 188, 149), use_voxels=True, interp_type=1)\n",
    "RMS03_flair_ants_re = ants.resample_image(RMS03_flair_ants, (148, 188, 149), use_voxels=True, interp_type=1)\n",
    "RMS05_flair_ants_re = ants.resample_image(RMS05_flair_ants, (148, 188, 149), use_voxels=True, interp_type=1)"
   ]
  },
  {
   "cell_type": "code",
   "execution_count": null,
   "id": "57cb7d98",
   "metadata": {},
   "outputs": [],
   "source": [
    "RMS01_flair_ants_re"
   ]
  },
  {
   "cell_type": "code",
   "execution_count": null,
   "id": "09ae0ef3",
   "metadata": {},
   "outputs": [],
   "source": [
    "ants.plot(RMS01_flair_ants_re, overlay=atlas_ants, overlay_alpha = 0.5, axis=0, nslices=15, figsize=4)"
   ]
  },
  {
   "cell_type": "code",
   "execution_count": null,
   "id": "f6574be6",
   "metadata": {},
   "outputs": [],
   "source": [
    "RMS01_flair2atlas = ants.registration(fixed = atlas_ants, initial_transform = None,\n",
    "                                moving = RMS01_flair_ants_re, \n",
    "                                type_of_transform = 'SyN',aff_metric='mattes')"
   ]
  },
  {
   "cell_type": "code",
   "execution_count": null,
   "id": "21e1335c",
   "metadata": {},
   "outputs": [],
   "source": [
    "RMS02_flair2atlas = ants.registration(fixed = atlas_ants,\n",
    "                                moving = RMS02_flair_ants_re, \n",
    "                                type_of_transform = 'SyN',aff_metric='mattes')"
   ]
  },
  {
   "cell_type": "code",
   "execution_count": null,
   "id": "4bb26035",
   "metadata": {},
   "outputs": [],
   "source": [
    "RMS03_flair2atlas = ants.registration(fixed = atlas_ants,\n",
    "                                moving = RMS03_flair_ants_re, \n",
    "                                type_of_transform = 'SyN',aff_metric='mattes')"
   ]
  },
  {
   "cell_type": "code",
   "execution_count": null,
   "id": "f6315c49",
   "metadata": {},
   "outputs": [],
   "source": [
    "RMS05_flair2atlas = ants.registration(fixed = atlas_ants,\n",
    "                                moving = RMS05_flair_ants_re, \n",
    "                                type_of_transform = 'SyN',aff_metric='mattes')"
   ]
  },
  {
   "cell_type": "code",
   "execution_count": null,
   "id": "7fcd337c",
   "metadata": {},
   "outputs": [],
   "source": [
    "import pickle \n",
    "  \n",
    "try: \n",
    "    geeky_file = open('/data/MRSI/Naren2/FURI2/mayomrs_aligned/NarenTemplateSpace/Atlas_registration/RMS01_flair2atlas', 'wb') \n",
    "    pickle.dump(RMS01_flair2atlas, geeky_file)\n",
    "    geeky_file.close() \n",
    "  \n",
    "except: \n",
    "    print(\"Something went wrong\")"
   ]
  },
  {
   "cell_type": "code",
   "execution_count": null,
   "id": "1742a6b9",
   "metadata": {},
   "outputs": [],
   "source": [
    "with open('/data/MRSI/Naren2/FURI2/mayomrs_aligned/NarenTemplateSpace/Atlas_registration/RMS01_flair2atlas', 'rb') as f:\n",
    "    RMS01_flair2atlas = pickle.load(f)\n",
    "with open('/data/MRSI/Naren2/FURI2/mayomrs_aligned/NarenTemplateSpace/Atlas_registration/RMS02_flair2atlas', 'rb') as f:\n",
    "    RMS02_flair2atlas = pickle.load(f)\n",
    "with open('/data/MRSI/Naren2/FURI2/mayomrs_aligned/NarenTemplateSpace/Atlas_registration/RMS03_flair2atlas', 'rb') as f:\n",
    "    RMS03_flair2atlas = pickle.load(f)\n",
    "with open('/data/MRSI/Naren2/FURI2/mayomrs_aligned/NarenTemplateSpace/Atlas_registration/RMS05_flair2atlas', 'rb') as f:\n",
    "    RMS05_flair2atlas = pickle.load(f)"
   ]
  },
  {
   "cell_type": "code",
   "execution_count": null,
   "id": "dc5368ec",
   "metadata": {},
   "outputs": [],
   "source": [
    "ants.plot(RMS01_flair2atlas['warpedmovout'], overlay=atlas_ants, overlay_alpha = 0.3, axis=2, nslices=15, figsize=4)"
   ]
  },
  {
   "cell_type": "code",
   "execution_count": null,
   "id": "abcb9b45",
   "metadata": {},
   "outputs": [],
   "source": [
    "hylabelsRMS01_clustered_2highres = np.array(nib.load(\"/data/MRSI/Naren2/FURI2/mayomrs_aligned/ms/RMS01/redo/hylabelsRMS01_clustered_2highres_resampled.nii\").dataobj)\n",
    "hylabelsRMS02_clustered_2highres = np.array(nib.load(\"/data/MRSI/Naren2/FURI2/mayomrs_aligned/ms/RMS02/redo/hylabelsRMS02_clustered_2highres_resampled.nii\").dataobj)\n",
    "hylabelsRMS03_clustered_2highres = np.array(nib.load(\"/data/MRSI/Naren2/FURI2/mayomrs_aligned/ms/RMS03/redo/hylabelsRMS03_clustered_2highres_resampled.nii\").dataobj)\n",
    "hylabelsRMS05_clustered_2highres = np.array(nib.load(\"/data/MRSI/Naren2/FURI2/mayomrs_aligned/ms/RMS05/redo/hylabelsRMS05_clustered_2highres_resampled.nii\").dataobj)"
   ]
  },
  {
   "cell_type": "code",
   "execution_count": null,
   "id": "11896743",
   "metadata": {},
   "outputs": [],
   "source": [
    "hylabelsRMS01_clustered_2highres_ants = ants.from_numpy(hylabelsRMS01_clustered_2highres)\n",
    "hylabelsRMS02_clustered_2highres_ants = ants.from_numpy(hylabelsRMS02_clustered_2highres)\n",
    "hylabelsRMS03_clustered_2highres_ants = ants.from_numpy(hylabelsRMS03_clustered_2highres)\n",
    "hylabelsRMS05_clustered_2highres_ants = ants.from_numpy(hylabelsRMS05_clustered_2highres)"
   ]
  },
  {
   "cell_type": "code",
   "execution_count": null,
   "id": "c3cff8c4",
   "metadata": {},
   "outputs": [],
   "source": [
    "hylabelsRMS01_clustered_2highres_ants"
   ]
  },
  {
   "cell_type": "code",
   "execution_count": null,
   "id": "ad28d6f5",
   "metadata": {},
   "outputs": [],
   "source": [
    "hylabelsRMS01_clustered_2highres_ants_re = ants.resample_image(hylabelsRMS01_clustered_2highres_ants, (148, 188, 149), use_voxels=True, interp_type=1)\n",
    "hylabelsRMS02_clustered_2highres_ants_re = ants.resample_image(hylabelsRMS02_clustered_2highres_ants, (148, 188, 149), use_voxels=True, interp_type=1)\n",
    "hylabelsRMS03_clustered_2highres_ants_re = ants.resample_image(hylabelsRMS03_clustered_2highres_ants, (148, 188, 149), use_voxels=True, interp_type=1)\n",
    "hylabelsRMS05_clustered_2highres_ants_re = ants.resample_image(hylabelsRMS05_clustered_2highres_ants, (148, 188, 149), use_voxels=True, interp_type=1)"
   ]
  },
  {
   "cell_type": "code",
   "execution_count": null,
   "id": "1f930298",
   "metadata": {},
   "outputs": [],
   "source": [
    "hylabelsRMS01_clustered_2highres_ants_re.set_spacing((1,1,1))\n",
    "hylabelsRMS02_clustered_2highres_ants_re.set_spacing((1,1,1))\n",
    "hylabelsRMS03_clustered_2highres_ants_re.set_spacing((1,1,1))\n",
    "hylabelsRMS05_clustered_2highres_ants_re.set_spacing((1,1,1))"
   ]
  },
  {
   "cell_type": "code",
   "execution_count": null,
   "id": "533e3e9c",
   "metadata": {},
   "outputs": [],
   "source": [
    "RMS01_labels2atlas = ants.apply_transforms(fixed=atlas_ants, moving=hylabelsRMS01_clustered_2highres_ants_re, transformlist= RMS01_flair2atlas['fwdtransforms'], interpolator='nearestNeighbor', verbose=True)\n",
    "RMS02_labels2atlas = ants.apply_transforms(fixed=atlas_ants, moving=hylabelsRMS02_clustered_2highres_ants_re, transformlist= RMS02_flair2atlas['fwdtransforms'], interpolator='nearestNeighbor', verbose=True)\n",
    "RMS03_labels2atlas = ants.apply_transforms(fixed=atlas_ants, moving=hylabelsRMS03_clustered_2highres_ants_re, transformlist= RMS03_flair2atlas['fwdtransforms'], interpolator='nearestNeighbor', verbose=True)\n",
    "RMS05_labels2atlas = ants.apply_transforms(fixed=atlas_ants, moving=hylabelsRMS05_clustered_2highres_ants_re, transformlist= RMS05_flair2atlas['fwdtransforms'], interpolator='nearestNeighbor', verbose=True)"
   ]
  },
  {
   "cell_type": "code",
   "execution_count": null,
   "id": "a7a751cc",
   "metadata": {},
   "outputs": [],
   "source": [
    "ants.plot(RMS02_flair2atlas['warpedmovout'], overlay=RMS02_labels2atlas, overlay_alpha = 0.6, axis=2, nslices=5, figsize=4)"
   ]
  },
  {
   "cell_type": "code",
   "execution_count": null,
   "id": "0e874392",
   "metadata": {},
   "outputs": [],
   "source": [
    "ants.plot(RMS01_labels2atlas, overlay=atlas_ants, overlay_alpha = 0.5, axis=2, nslices=5, figsize=4)"
   ]
  },
  {
   "cell_type": "code",
   "execution_count": null,
   "id": "b4448c72",
   "metadata": {},
   "outputs": [],
   "source": [
    "hylabelsRMS01_highreslabels = np.array(nib.load(\"/data/MRSI/Naren2/FURI2/mayomrs_aligned/NarenTemplateSpace/ms/RMS01/RMS01_Label_ss_256.nii\").dataobj)\n",
    "hylabelsRMS02_highreslabels = np.array(nib.load(\"/data/MRSI/Naren2/FURI2/mayomrs_aligned/NarenTemplateSpace/ms/RMS02/RMS02_Label_ss_256.nii\").dataobj)\n",
    "hylabelsRMS03_highreslabels = np.array(nib.load(\"/data/MRSI/Naren2/FURI2/mayomrs_aligned/NarenTemplateSpace/ms/RMS03/RMS03_Label_fixed.nii\").dataobj)\n",
    "hylabelsRMS05_highreslabels = np.array(nib.load(\"/data/MRSI/Naren2/FURI2/mayomrs_aligned/NarenTemplateSpace/ms/RMS05/RMS05_Label_fixed.nii\").dataobj)"
   ]
  },
  {
   "cell_type": "code",
   "execution_count": null,
   "id": "0594555c",
   "metadata": {},
   "outputs": [],
   "source": [
    "hylabelsRMS05_highreslabels.shape"
   ]
  },
  {
   "cell_type": "code",
   "execution_count": null,
   "id": "dc976553",
   "metadata": {},
   "outputs": [],
   "source": [
    "hylabelsRMS01_highreslabels_tp = np.rot90(np.fliplr(hylabelsRMS01_highreslabels))\n",
    "hylabelsRMS02_highreslabels_tp = np.rot90(np.fliplr(hylabelsRMS02_highreslabels))\n",
    "hylabelsRMS03_highreslabels_tp = np.flipud(np.transpose(hylabelsRMS03_highreslabels))\n",
    "hylabelsRMS05_highreslabels_tp = np.transpose(np.flipud(np.fliplr(np.transpose(np.flip(hylabelsRMS05_highreslabels)))), (1, 0, 2))"
   ]
  },
  {
   "cell_type": "code",
   "execution_count": null,
   "id": "ad81b7dc",
   "metadata": {},
   "outputs": [],
   "source": [
    "#make labels match flair\n",
    "labels_iso_5_flip_tp = np.transpose(labels_iso_5_flip)\n",
    "labels_iso_5_flip_tp_lr = np.fliplr(labels_iso_5_flip_tp)\n",
    "labels_iso_5_flip_tp_lr_ud = np.flipud(labels_iso_5_flip_tp_lr)\n",
    "labels_iso_5_flip_tp_lr_ud_tp = np.transpose(labels_iso_5_flip_tp_lr_ud, (1, 0, 2))"
   ]
  },
  {
   "cell_type": "code",
   "execution_count": null,
   "id": "486de226",
   "metadata": {},
   "outputs": [],
   "source": [
    "plt.imshow(flair_5_tp[90,:,:], cmap='inferno')"
   ]
  },
  {
   "cell_type": "code",
   "execution_count": null,
   "id": "8a77a07b",
   "metadata": {},
   "outputs": [],
   "source": [
    "n=90\n",
    "plt.imshow(flair_5_tp[n,:,:], cmap='inferno')\n",
    "plt.imshow(hylabelsRMS05_highreslabels_tp[n,:,:], cmap='inferno', alpha=0.3)"
   ]
  },
  {
   "cell_type": "code",
   "execution_count": null,
   "id": "7053d9a9",
   "metadata": {},
   "outputs": [],
   "source": [
    "hylabelsRMS01_highreslabels_tp_ants = ants.from_numpy(hylabelsRMS01_highreslabels_tp)\n",
    "hylabelsRMS02_highreslabels_tp_ants = ants.from_numpy(hylabelsRMS02_highreslabels_tp)\n",
    "hylabelsRMS03_highreslabels_tp_ants = ants.from_numpy(hylabelsRMS03_highreslabels_tp)\n",
    "hylabelsRMS05_highreslabels_tp_ants = ants.from_numpy(hylabelsRMS05_highreslabels_tp)"
   ]
  },
  {
   "cell_type": "code",
   "execution_count": null,
   "id": "99fe1fe7",
   "metadata": {},
   "outputs": [],
   "source": [
    "ants.plot(hylabelsRMS01_highreslabels_tp_ants, overlay=RMS01_flair_ants, overlay_alpha = 0.5, axis=2, nslices=5, figsize=4)"
   ]
  },
  {
   "cell_type": "code",
   "execution_count": null,
   "id": "d452b593",
   "metadata": {},
   "outputs": [],
   "source": [
    "ants.plot(hylabelsRMS05_highreslabels_tp_ants, overlay=RMS05_flair_ants, overlay_alpha = 0.5, axis=2, nslices=5, figsize=4)"
   ]
  },
  {
   "cell_type": "code",
   "execution_count": null,
   "id": "ece2f729",
   "metadata": {},
   "outputs": [],
   "source": [
    "hylabelsRMS01_highreslabels_tp_ants_re = ants.resample_image(hylabelsRMS01_highreslabels_tp_ants, (148, 188, 149), use_voxels=True, interp_type=1)\n",
    "hylabelsRMS02_highreslabels_tp_ants_re = ants.resample_image(hylabelsRMS02_highreslabels_tp_ants, (148, 188, 149), use_voxels=True, interp_type=1)\n",
    "hylabelsRMS03_highreslabels_tp_ants_re = ants.resample_image(hylabelsRMS03_highreslabels_tp_ants, (148, 188, 149), use_voxels=True, interp_type=1)\n",
    "hylabelsRMS05_highreslabels_tp_ants_re = ants.resample_image(hylabelsRMS05_highreslabels_tp_ants, (148, 188, 149), use_voxels=True, interp_type=1)"
   ]
  },
  {
   "cell_type": "code",
   "execution_count": null,
   "id": "681472f5",
   "metadata": {},
   "outputs": [],
   "source": [
    "hylabelsRMS01_highreslabels_tp_ants_re.set_spacing((1,1,1))\n",
    "hylabelsRMS02_highreslabels_tp_ants_re.set_spacing((1,1,1))\n",
    "hylabelsRMS03_highreslabels_tp_ants_re.set_spacing((1,1,1))\n",
    "hylabelsRMS05_highreslabels_tp_ants_re.set_spacing((1,1,1))"
   ]
  },
  {
   "cell_type": "code",
   "execution_count": null,
   "id": "6c0f8bec",
   "metadata": {},
   "outputs": [],
   "source": [
    "RMS01_highreslabels2atlas = ants.apply_transforms(fixed=atlas_ants, moving=hylabelsRMS01_highreslabels_tp_ants_re, transformlist= RMS01_flair2atlas['fwdtransforms'], interpolator='nearestNeighbor', verbose=True)\n",
    "RMS02_highreslabels2atlas = ants.apply_transforms(fixed=atlas_ants, moving=hylabelsRMS02_highreslabels_tp_ants_re, transformlist= RMS02_flair2atlas['fwdtransforms'], interpolator='nearestNeighbor', verbose=True)\n",
    "RMS03_highreslabels2atlas = ants.apply_transforms(fixed=atlas_ants, moving=hylabelsRMS03_highreslabels_tp_ants_re, transformlist= RMS03_flair2atlas['fwdtransforms'], interpolator='nearestNeighbor', verbose=True)\n",
    "RMS05_highreslabels2atlas = ants.apply_transforms(fixed=atlas_ants, moving=hylabelsRMS05_highreslabels_tp_ants_re, transformlist= RMS05_flair2atlas['fwdtransforms'], interpolator='nearestNeighbor', verbose=True)"
   ]
  },
  {
   "cell_type": "code",
   "execution_count": null,
   "id": "697fc364",
   "metadata": {},
   "outputs": [],
   "source": [
    "ants.plot(RMS02_flair2atlas['warpedmovout'], overlay=RMS02_highreslabels2atlas, overlay_alpha = 0.5, axis=2, nslices=5, figsize=4)"
   ]
  },
  {
   "cell_type": "code",
   "execution_count": null,
   "id": "5b723fbc",
   "metadata": {},
   "outputs": [],
   "source": [
    "ants.plot(atlas_ants, overlay=RMS02_highreslabels2atlas, overlay_alpha = 0.5, axis=2, nslices=5, figsize=4)"
   ]
  },
  {
   "cell_type": "code",
   "execution_count": null,
   "id": "f2c5e37a",
   "metadata": {},
   "outputs": [],
   "source": [
    "RMS01_labels2atlas_npy = RMS01_labels2atlas.numpy()\n",
    "RMS02_labels2atlas_npy = RMS02_labels2atlas.numpy()\n",
    "RMS03_labels2atlas_npy = RMS03_labels2atlas.numpy()\n",
    "RMS05_labels2atlas_npy = RMS05_labels2atlas.numpy()\n",
    "atlas_ants_npy = atlas_ants.numpy()\n",
    "RMS01_flair2atlas_npy = RMS01_flair2atlas['warpedmovout'].numpy()\n",
    "RMS02_flair2atlas_npy = RMS02_flair2atlas['warpedmovout'].numpy()\n",
    "RMS03_flair2atlas_npy = RMS03_flair2atlas['warpedmovout'].numpy()\n",
    "RMS05_flair2atlas_npy = RMS05_flair2atlas['warpedmovout'].numpy()\n",
    "RMS01_highreslabels2atlas_npy = RMS01_highreslabels2atlas.numpy()\n",
    "RMS02_highreslabels2atlas_npy = RMS02_highreslabels2atlas.numpy()\n",
    "RMS03_highreslabels2atlas_npy = RMS03_highreslabels2atlas.numpy()\n",
    "RMS05_highreslabels2atlas_npy = RMS05_highreslabels2atlas.numpy()"
   ]
  },
  {
   "cell_type": "code",
   "execution_count": null,
   "id": "e0b84f3e",
   "metadata": {},
   "outputs": [],
   "source": [
    "RMS01_flair_ants_re_npy = RMS01_flair_ants_re.numpy()"
   ]
  },
  {
   "cell_type": "code",
   "execution_count": null,
   "id": "505b6530",
   "metadata": {},
   "outputs": [],
   "source": [
    "ni_img = nib.Nifti1Image(RMS01_labels2atlas_npy, affine=np.eye(4))\n",
    "nib.save(ni_img, \"/data/MRSI/Naren2/FURI2/mayomrs_aligned/NarenTemplateSpace/Atlas_registration/RMS01_labels2atlas.nii\")\n",
    "ni_img2 = nib.Nifti1Image(RMS02_labels2atlas_npy, affine=np.eye(4))\n",
    "nib.save(ni_img2, \"/data/MRSI/Naren2/FURI2/mayomrs_aligned/NarenTemplateSpace/Atlas_registration/RMS02_labels2atlas.nii\")\n",
    "ni_img3 = nib.Nifti1Image(RMS03_labels2atlas_npy, affine=np.eye(4))\n",
    "nib.save(ni_img3, \"/data/MRSI/Naren2/FURI2/mayomrs_aligned/NarenTemplateSpace/Atlas_registration/RMS03_labels2atlas.nii\")\n",
    "ni_img4 = nib.Nifti1Image(RMS05_labels2atlas_npy, affine=np.eye(4))\n",
    "nib.save(ni_img4, \"/data/MRSI/Naren2/FURI2/mayomrs_aligned/NarenTemplateSpace/Atlas_registration/RMS05_labels2atlas.nii\")\n",
    "ni_img5 = nib.Nifti1Image(atlas_ants_npy, affine=np.eye(4))\n",
    "nib.save(ni_img5, \"/data/MRSI/Naren2/FURI2/mayomrs_aligned/NarenTemplateSpace/Atlas_registration/atlas_ants.nii\")"
   ]
  },
  {
   "cell_type": "code",
   "execution_count": null,
   "id": "abc937e8",
   "metadata": {},
   "outputs": [],
   "source": [
    "ni_img6 = nib.Nifti1Image(RMS01_flair2atlas_npy, affine=np.eye(4))\n",
    "nib.save(ni_img6, \"/data/MRSI/Naren2/FURI2/mayomrs_aligned/NarenTemplateSpace/Atlas_registration/RMS01_flair2atlas.nii\")\n",
    "ni_img7 = nib.Nifti1Image(RMS02_flair2atlas_npy, affine=np.eye(4))\n",
    "nib.save(ni_img7, \"/data/MRSI/Naren2/FURI2/mayomrs_aligned/NarenTemplateSpace/Atlas_registration/RMS02_flair2atlas.nii\")\n",
    "ni_img8 = nib.Nifti1Image(RMS03_flair2atlas_npy, affine=np.eye(4))\n",
    "nib.save(ni_img8, \"/data/MRSI/Naren2/FURI2/mayomrs_aligned/NarenTemplateSpace/Atlas_registration/RMS03_flair2atlas.nii\")\n",
    "ni_img9 = nib.Nifti1Image(RMS05_flair2atlas_npy, affine=np.eye(4))\n",
    "nib.save(ni_img9, \"/data/MRSI/Naren2/FURI2/mayomrs_aligned/NarenTemplateSpace/Atlas_registration/RMS05_flair2atlas.nii\")"
   ]
  },
  {
   "cell_type": "code",
   "execution_count": null,
   "id": "cc725f9f",
   "metadata": {},
   "outputs": [],
   "source": [
    "ni_img10 = nib.Nifti1Image(RMS01_highreslabels2atlas_npy, affine=np.eye(4))\n",
    "nib.save(ni_img10, \"/data/MRSI/Naren2/FURI2/mayomrs_aligned/NarenTemplateSpace/Atlas_registration/RMS01_highreslabels2atlas.nii\")\n",
    "ni_img11 = nib.Nifti1Image(RMS02_highreslabels2atlas_npy, affine=np.eye(4))\n",
    "nib.save(ni_img11, \"/data/MRSI/Naren2/FURI2/mayomrs_aligned/NarenTemplateSpace/Atlas_registration/RMS02_highreslabels2atlas.nii\")\n",
    "ni_img12 = nib.Nifti1Image(RMS03_highreslabels2atlas_npy, affine=np.eye(4))\n",
    "nib.save(ni_img12, \"/data/MRSI/Naren2/FURI2/mayomrs_aligned/NarenTemplateSpace/Atlas_registration/RMS03_highreslabels2atlas.nii\")\n",
    "ni_img13 = nib.Nifti1Image(RMS05_highreslabels2atlas_npy, affine=np.eye(4))\n",
    "nib.save(ni_img13, \"/data/MRSI/Naren2/FURI2/mayomrs_aligned/NarenTemplateSpace/Atlas_registration/RMS05_highreslabels2atlas.nii\")\n",
    "ni_img14 = nib.Nifti1Image(atlas_ants_npy, affine=np.eye(4))\n",
    "nib.save(ni_img14, \"/data/MRSI/Naren2/FURI2/mayomrs_aligned/NarenTemplateSpace/Atlas_registration/atlas_ants.nii\")"
   ]
  },
  {
   "cell_type": "code",
   "execution_count": null,
   "id": "55e915d8",
   "metadata": {},
   "outputs": [],
   "source": [
    "ni_img10 = nib.Nifti1Image(RMS01_flair_ants_re_npy, affine=np.eye(4))\n",
    "nib.save(ni_img10, \"/data/MRSI/Naren2/FURI2/mayomrs_aligned/NarenTemplateSpace/Atlas_registration/RMS01_flair_ants_re.nii\")"
   ]
  },
  {
   "cell_type": "code",
   "execution_count": null,
   "id": "2763abd5",
   "metadata": {},
   "outputs": [],
   "source": [
    "hylabelsRMS02_clustered_2highres_resampled"
   ]
  },
  {
   "cell_type": "code",
   "execution_count": null,
   "id": "c9addd06",
   "metadata": {},
   "outputs": [],
   "source": [
    "ants.plot(RMS02_flair_ants, overlay=hylabelsRMS02_clustered_2highres_resampled, overlay_alpha = 1, axis=1, nslices=10, figsize=4)"
   ]
  },
  {
   "cell_type": "code",
   "execution_count": null,
   "id": "8cf928e7",
   "metadata": {},
   "outputs": [],
   "source": [
    "kmeans = KMeans(n_clusters=4)\n",
    "kmeans.fit(data)\n",
    "\n",
    "plt.scatter(cpca_transformed3[:,0], cpca_transformed3[:,1], c=kmeans.labels_)\n",
    "plt.show()"
   ]
  },
  {
   "cell_type": "code",
   "execution_count": null,
   "id": "4627fc9f",
   "metadata": {},
   "outputs": [],
   "source": [
    "np.save('/data/bioprotean/Naren2/FURI2/mayomrs_aligned/CPCA/RMS01_RMS02_CPCA_Alpha3.npy',cpca_transformed3)"
   ]
  },
  {
   "cell_type": "code",
   "execution_count": null,
   "id": "5eae23d9",
   "metadata": {},
   "outputs": [],
   "source": [
    "plt.scatter(cpca_transformed2[:,0], cpca_transformed2[:,1])"
   ]
  },
  {
   "cell_type": "code",
   "execution_count": null,
   "id": "8cae31c9",
   "metadata": {},
   "outputs": [],
   "source": [
    "cpca_transformed[0]"
   ]
  },
  {
   "cell_type": "code",
   "execution_count": null,
   "id": "ba6e1d2e",
   "metadata": {},
   "outputs": [],
   "source": [
    "#attempting to separate all hyperintensities from control background, black is hyperintensities, each color is diff pt.\n",
    "cpca2 = CPCA()\n",
    "labels2 = [0]*524288+[1]*131072+[2]*131072+[3]*131072+[4]*131072\n",
    "cpca_transformed2 = cpca.fit_transform(hy_frame_allms.real, bgd_frame_onlyc.real, plot=True, active_labels=labels2, n_alphas=10)\n",
    "#preprocess_with_pca_dim=500"
   ]
  },
  {
   "cell_type": "code",
   "execution_count": null,
   "id": "b3a04072",
   "metadata": {},
   "outputs": [],
   "source": [
    "#attempting to separate all hyperintensities from control background, red is control, black is hyperintensities\n",
    "cpca2 = CPCA()\n",
    "labels2 = [0]*524288+[1]*524288\n",
    "cpca_transformed2 = cpca2.fit_transform(hy_frame_allms.real, bgd_frame_onlyc.real, plot=True, active_labels=labels2, n_alphas=10, preprocess_with_pca_dim=500)"
   ]
  },
  {
   "cell_type": "code",
   "execution_count": null,
   "id": "92974d03",
   "metadata": {},
   "outputs": [],
   "source": [
    "#hy_frame is only hyperintensity spectra to see how each brain separates from one another\n",
    "cpca2 = CPCA()\n",
    "labels2 = [0]*131072+[1]*131072+[2]*131072+[3]*131072\n",
    "cpca_transformed2 = cpca2.fit_transform(hy_frame.real, bgd_frame_onlyc.real, plot=True, active_labels=labels2, n_alphas=10, preprocess_with_pca_dim=500)"
   ]
  },
  {
   "cell_type": "code",
   "execution_count": null,
   "id": "1c90eca7",
   "metadata": {},
   "outputs": [],
   "source": [
    "#hy_test is only 1st and 2nd MS brains, with first 250k being hyperintensties spectra, and second 250k being control background spectra\n",
    "#hy_test was used to reduce data size\n",
    "cpca2 = CPCA()\n",
    "labels2 = [0]*262144+[1]*262144\n",
    "cpca_transformed2 = cpca2.fit_transform(hy_test.real, bgd_frame_onlyc.real, plot=True, active_labels=labels2, n_alphas=10, preprocess_with_pca_dim=500)"
   ]
  },
  {
   "cell_type": "code",
   "execution_count": null,
   "id": "576db88e",
   "metadata": {},
   "outputs": [],
   "source": [
    "#without standardizing\n",
    "cpca2 = CPCA(standardize=False, verbose=True)\n",
    "labels2 = [0]*262144+[1]*262144\n",
    "cpca_transformed2 = cpca2.fit_transform(hy_test.real, bgd_frame_onlyc.real, plot=True, active_labels=labels2, n_alphas=10, preprocess_with_pca_dim=500)"
   ]
  },
  {
   "cell_type": "code",
   "execution_count": null,
   "id": "c662bce6",
   "metadata": {},
   "outputs": [],
   "source": [
    "cpca2 = CPCA(verbose=True)\n",
    "labels2 = [1]*262144+[0]*262144\n",
    "cpca_transformed2 = cpca2.fit_transform(hy_test.real, bgd_frame_onlyc.real, plot=True, active_labels=labels2, n_alphas=10, preprocess_with_pca_dim=500)"
   ]
  },
  {
   "cell_type": "code",
   "execution_count": null,
   "id": "a08f4376",
   "metadata": {},
   "outputs": [],
   "source": [
    "np.count_nonzero(hy_test==0)"
   ]
  },
  {
   "cell_type": "code",
   "execution_count": null,
   "id": "545541bf",
   "metadata": {},
   "outputs": [],
   "source": [
    "#only ms with bgd outside ms hy\n",
    "cpca2 = CPCA(verbose=True)\n",
    "labels2 = [0]*131072+[1]*131072+[2]*131072+[3]*131072\n",
    "cpca_transformed2 = cpca2.fit_transform(hy_test.real, bgd_onlyms.real, plot=True, active_labels=labels2, n_alphas=10, preprocess_with_pca_dim=500)"
   ]
  }
 ],
 "metadata": {
  "language_info": {
   "name": "python"
  }
 },
 "nbformat": 4,
 "nbformat_minor": 5
}
